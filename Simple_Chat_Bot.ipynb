{
 "cells": [
  {
   "cell_type": "markdown",
   "metadata": {},
   "source": [
    "# Simple Chat Bot"
   ]
  },
  {
   "cell_type": "markdown",
   "metadata": {},
   "source": [
    "* En este proyecto personal vamos a programar un chat bot, que va a contestar algunas preguntas que se hacen con frecuencia, con un enfoque para un negocio. \n",
    "* Como va a ser un chat bot simple no vamos a descargar ningun dataset, sino que vamos a escribir los datos de entrenamiento del modelo nosotros mismos\n",
    "* La idea es hacer un chat bot de la siguiente manera: 1) El usuario ingrese una pregunta, 2) Hacer una prediccion con el modelo para ver a cual clase de pregunta hace referencia 3) Elegir alguna respuesta de esa misma clase al azar\n",
    "* Explicamos sin entrar en mucho detalle cada parte del codigo"
   ]
  },
  {
   "cell_type": "markdown",
   "metadata": {},
   "source": [
    "### Los datos de entramiento son los siguientes: "
   ]
  },
  {
   "cell_type": "raw",
   "metadata": {},
   "source": [
    "{\n",
    "    \"intents\": [{\n",
    "            \"tag\": \"saludo\",\n",
    "            \"patterns\": [\"Hola\", \"¿Cómo estás?\", \"¿Hay alguien ahí?\", \"Hola\", \"Buen día\", \"Qué tal\"],\n",
    "            \"responses\": [\"¡Hola!\", \"¡Qué bueno verte de nuevo!\", \"Hola, ¿cómo puedo ayudar?\"],\n",
    "            \"context_set\": \"\"\n",
    "        },\n",
    "        {\n",
    "            \"tag\": \"adiós\",\n",
    "            \"patterns\": [\"chau\", \"Hasta luego\", \"Adiós\", \"Me voy\", \"Que tengas un buen día\", \"bye\"],\n",
    "            \"responses\": [\"Chau :(\", \"Hablamos más tarde\", \"¡Adiós!\"],\n",
    "            \"context_set\": \"\"\n",
    "        },\n",
    "        {\n",
    "            \"tag\": \"edad\",\n",
    "            \"patterns\": [\"cuántos años\", \"cuántos años tenes\", \"cuál es tu edad\", \"cuántos años tienes\", \"edad?\"],\n",
    "            \"respuestas\": [\"Tengo 22 años!\", \"22 años!\"],\n",
    "            \"context_set\": \"\"\n",
    "        },\n",
    "        {\n",
    "            \"tag\": \"nombre\",\n",
    "            \"patterns\": [\"cómo te llamas?\", \"cómo debo llamarte?\", \"cómo te llamas?\"],\n",
    "            \"responses\": [\"Puedes llamarme Ramiro\", \"¡Soy Ramiro!\", \"Soy Ramiro, también conocido como Rami\"],\n",
    "            \"context_set\": \"\"\n",
    "        },\n",
    "        {\n",
    "            \"tag\": \"comprar\",\n",
    "            \"patterns\": [\"Me gustaría comprar algo\", \"¿Qué hay en el menú\", \"¿Qué me recomiendan?\", \"¿Puedo conseguir                         algo de comer\"],\n",
    "            \"responses\": [\"¡Vendemos galletas con chispas de chocolate por $ 2!\", \"¡Las galletas están en el menú!\"],\n",
    "            \"context_set\": \"\"\n",
    "        },\n",
    "        {\n",
    "            \"tag\": \"horas\",\n",
    "            \"patterns\": [\"cuándo están abiertos\", \"cuál es su horario\", \"horario de atención\", \"A que hora abren?\"],\n",
    "            \"responses\": [\"¡Abrimos de 7 am a 4 pm de lunes a viernes!\"],\n",
    "            \"context_set\": \"\"\n",
    "        },\n",
    "        {\n",
    "            \"tag\": \"estado\",\n",
    "            \"patterns\": [\"como estas?\", \"que haces?\", \"como andas?\", \"todo bien?\"],\n",
    "            \"responses\": [\"Todo bien!\", \"Bien, gracias\", \"Traquilo\"],\n",
    "            \"context_set\": \"\"\n",
    "        }\n",
    "    ]\n",
    "}"
   ]
  },
  {
   "cell_type": "markdown",
   "metadata": {},
   "source": [
    "# Empezamos con el proyecto"
   ]
  },
  {
   "cell_type": "markdown",
   "metadata": {},
   "source": [
    "Importamos las librerias necesarias e importamos nuestro json con los datos de entrenamiento"
   ]
  },
  {
   "cell_type": "code",
   "execution_count": 1,
   "metadata": {},
   "outputs": [
    {
     "name": "stderr",
     "output_type": "stream",
     "text": [
      "[nltk_data] Downloading package punkt to /Users/ramiro/nltk_data...\n",
      "[nltk_data]   Package punkt is already up-to-date!\n"
     ]
    },
    {
     "name": "stdout",
     "output_type": "stream",
     "text": [
      "WARNING:tensorflow:From /opt/anaconda3/lib/python3.8/site-packages/tensorflow/python/compat/v2_compat.py:96: disable_resource_variables (from tensorflow.python.ops.variable_scope) is deprecated and will be removed in a future version.\n",
      "Instructions for updating:\n",
      "non-resource variables are not supported in the long term\n"
     ]
    },
    {
     "name": "stderr",
     "output_type": "stream",
     "text": [
      "Using TensorFlow backend.\n"
     ]
    }
   ],
   "source": [
    "import nltk\n",
    "from nltk.stem.lancaster import LancasterStemmer\n",
    "from nltk import SnowballStemmer\n",
    "nltk.download('punkt')\n",
    "stemmer = LancasterStemmer()\n",
    "\n",
    "import numpy\n",
    "import tflearn\n",
    "import tensorflow\n",
    "import random\n",
    "import keras\n",
    "import pickle\n",
    "\n",
    "\n",
    "import json\n",
    "with open('intents_es.json') as file:\n",
    "    data = json.load(file)"
   ]
  },
  {
   "cell_type": "markdown",
   "metadata": {},
   "source": [
    "### Extraemos la data necesaria y la vamos ordenando para su uso"
   ]
  },
  {
   "cell_type": "code",
   "execution_count": 2,
   "metadata": {},
   "outputs": [],
   "source": [
    "words = []\n",
    "labels = []\n",
    "docs_x = []\n",
    "docs_y = []"
   ]
  },
  {
   "cell_type": "code",
   "execution_count": 3,
   "metadata": {},
   "outputs": [],
   "source": [
    "for intent in data['intents']:\n",
    "    for pattern in intent['patterns']:\n",
    "        wrds = nltk.word_tokenize(pattern)\n",
    "        words.extend(wrds)\n",
    "        docs_x.append(wrds)\n",
    "        docs_y.append(intent[\"tag\"])\n",
    "        \n",
    "    if intent['tag'] not in labels:\n",
    "        labels.append(intent['tag'])"
   ]
  },
  {
   "cell_type": "markdown",
   "metadata": {},
   "source": [
    "### Stemming"
   ]
  },
  {
   "cell_type": "markdown",
   "metadata": {},
   "source": [
    "Usamos Stemming para llevar las palabras a su raiz, esto ayuda al entrenamiento del modelo."
   ]
  },
  {
   "cell_type": "code",
   "execution_count": 4,
   "metadata": {},
   "outputs": [],
   "source": [
    "spanishstemmer=SnowballStemmer('spanish')\n",
    "words = [spanishstemmer.stem(w.lower()) for w in words if w != \"?\"]\n",
    "words = sorted(list(set(words)))\n",
    "labels = sorted(labels)"
   ]
  },
  {
   "cell_type": "markdown",
   "metadata": {},
   "source": [
    "### Modelo bolsa de palabras"
   ]
  },
  {
   "cell_type": "markdown",
   "metadata": {},
   "source": [
    "Sabemos que las redes neuronales necesitan numeros para su entramiento para eso usamos bag of words o bolsa de palabras."
   ]
  },
  {
   "cell_type": "code",
   "execution_count": 5,
   "metadata": {},
   "outputs": [],
   "source": [
    "training = []\n",
    "output = []\n",
    "\n",
    "out_empty = [0 for _ in range(len(labels))]\n",
    "\n",
    "for x, doc in enumerate(docs_x):\n",
    "    bag = []\n",
    "\n",
    "    wrds = [stemmer.stem(w.lower()) for w in doc]\n",
    "\n",
    "    for w in words:\n",
    "        if w in wrds:\n",
    "            bag.append(1)\n",
    "        else:\n",
    "            bag.append(0)\n",
    "\n",
    "    output_row = out_empty[:]\n",
    "    output_row[labels.index(docs_y[x])] = 1\n",
    "\n",
    "    training.append(bag)\n",
    "    output.append(output_row)"
   ]
  },
  {
   "cell_type": "code",
   "execution_count": 6,
   "metadata": {},
   "outputs": [],
   "source": [
    "training = numpy.array(training)\n",
    "output = numpy.array(output)"
   ]
  },
  {
   "cell_type": "markdown",
   "metadata": {},
   "source": [
    "### Creamos nuestro modelo con tflearn"
   ]
  },
  {
   "cell_type": "markdown",
   "metadata": {},
   "source": [
    "Vamos a usar como modelo una red neuronal con dos capas ocultas full connected, la idea es que lea la bolsa de palabras (input) y nos diga a que clase corresponde cada pregunta (output)"
   ]
  },
  {
   "cell_type": "code",
   "execution_count": 7,
   "metadata": {},
   "outputs": [
    {
     "name": "stdout",
     "output_type": "stream",
     "text": [
      "Training Step: 3999  | total loss: \u001b[1m\u001b[32m0.28998\u001b[0m\u001b[0m | time: 0.010s\n",
      "| Adam | epoch: 1000 | loss: 0.28998 - acc: 0.8980 -- iter: 24/32\n",
      "Training Step: 4000  | total loss: \u001b[1m\u001b[32m0.31998\u001b[0m\u001b[0m | time: 0.012s\n",
      "| Adam | epoch: 1000 | loss: 0.31998 - acc: 0.8832 -- iter: 32/32\n",
      "--\n"
     ]
    }
   ],
   "source": [
    "net = tflearn.input_data(shape=[None, len(training[0])])\n",
    "net = tflearn.fully_connected(net, 8)\n",
    "net = tflearn.fully_connected(net, 8)\n",
    "net = tflearn.fully_connected(net, len(output[0]), activation=\"softmax\")\n",
    "net = tflearn.regression(net)\n",
    "\n",
    "model = tflearn.DNN(net)\n",
    "\n",
    "model.fit(training, output, n_epoch=1000, batch_size=8, show_metric=True)"
   ]
  },
  {
   "cell_type": "markdown",
   "metadata": {},
   "source": [
    "### Usamos el bot"
   ]
  },
  {
   "cell_type": "markdown",
   "metadata": {},
   "source": [
    "* Queremos que gerene una respuesta a la pregunta ingresada por el usuario, nuestro modelo nos va a dar una lista de probabilidades para todas nuestras clases, de la clase con la probabilidad mas alta elegimos una respuestesta al azar.\n",
    "* Si la probabilidad mas alta no supera el 70% vamos a decirle al usuario que intente de nuevo, ya que no tenemos una respuesta contundente a esa pregunta."
   ]
  },
  {
   "cell_type": "code",
   "execution_count": 8,
   "metadata": {},
   "outputs": [
    {
     "name": "stdout",
     "output_type": "stream",
     "text": [
      "Empezá a chatear con el bot (escriba salir para terminar)\n",
      "Vos: Hola\n",
      "¡Qué bueno verte de nuevo!\n",
      "Vos: Como te llamas?\n",
      "Puedes llamarme Ramiro\n",
      "Vos: que edad tenes?\n",
      "22 años gracias por preguntar!\n",
      "Vos: Me gustaría comprar\n",
      "¡Las galletas están en el menú!\n",
      "Vos: cual es su horario\n",
      "¡Abrimos de 7 am a 4 pm de lunes a viernes!\n",
      "Vos: hasta luego\n",
      "¡Adiós!\n",
      "Vos: salir\n"
     ]
    }
   ],
   "source": [
    "def bag_of_words(s, words):\n",
    "    bag = [0 for _ in range(len(words))]\n",
    "\n",
    "    s_words = nltk.word_tokenize(s)\n",
    "    s_words = [stemmer.stem(word.lower()) for word in s_words]\n",
    "\n",
    "    for se in s_words:\n",
    "        for i, w in enumerate(words):\n",
    "            if w == se:\n",
    "                bag[i] = 1\n",
    "            \n",
    "    return numpy.array(bag)\n",
    "\n",
    "\n",
    "No_entiendo = [\"No entiendo, intenta de nuevo\", \"No estoy preparado para responder eso :(\", \"No lo entiendo\"]\n",
    "\n",
    "def chat():\n",
    "    print(\"Empezá a chatear con el bot (escriba salir para terminar)\")\n",
    "    while True:\n",
    "        inp = input(\"Vos: \")\n",
    "        if inp.lower() == \"salir\":\n",
    "            break\n",
    "\n",
    "        results = model.predict([bag_of_words(inp, words)])[0]\n",
    "        results_index = numpy.argmax(results)\n",
    "        tag = labels[results_index]\n",
    "        \n",
    "        if results[results_index] > 0.70:\n",
    "            for tg in data[\"intents\"]:\n",
    "                if tg['tag'] == tag:\n",
    "                    responses = tg['responses']\n",
    "\n",
    "            print(random.choice(responses))\n",
    "            \n",
    "        else:\n",
    "            print (random.choice(No_entiendo))\n",
    "\n",
    "chat()"
   ]
  },
  {
   "cell_type": "code",
   "execution_count": null,
   "metadata": {},
   "outputs": [],
   "source": []
  }
 ],
 "metadata": {
  "kernelspec": {
   "display_name": "Python 3",
   "language": "python",
   "name": "python3"
  },
  "language_info": {
   "codemirror_mode": {
    "name": "ipython",
    "version": 3
   },
   "file_extension": ".py",
   "mimetype": "text/x-python",
   "name": "python",
   "nbconvert_exporter": "python",
   "pygments_lexer": "ipython3",
   "version": "3.8.5"
  }
 },
 "nbformat": 4,
 "nbformat_minor": 4
}
