{
 "cells": [
  {
   "cell_type": "markdown",
   "metadata": {},
   "source": [
    "* Un proyecto personal del Covid-19 en la provincia de Córdoba, Argentina.\n",
    "* Los datos fueron descargados de la pagina: https://datos.gob.ar/"
   ]
  },
  {
   "cell_type": "markdown",
   "metadata": {},
   "source": [
    "### Leemos los datos y nos quedamos solamente con los datos de Córdoba"
   ]
  },
  {
   "cell_type": "code",
   "execution_count": 1,
   "metadata": {},
   "outputs": [],
   "source": [
    "import pandas as pd\n",
    "import numpy as np\n",
    "import matplotlib.pyplot as plt\n",
    "import seaborn as sns\n",
    "from datetime import datetime"
   ]
  },
  {
   "cell_type": "code",
   "execution_count": 2,
   "metadata": {},
   "outputs": [],
   "source": [
    "df1 = pd.read_csv(\"Covid19Casos.csv\")"
   ]
  },
  {
   "cell_type": "code",
   "execution_count": 3,
   "metadata": {},
   "outputs": [
    {
     "data": {
      "text/html": [
       "<div>\n",
       "<style scoped>\n",
       "    .dataframe tbody tr th:only-of-type {\n",
       "        vertical-align: middle;\n",
       "    }\n",
       "\n",
       "    .dataframe tbody tr th {\n",
       "        vertical-align: top;\n",
       "    }\n",
       "\n",
       "    .dataframe thead th {\n",
       "        text-align: right;\n",
       "    }\n",
       "</style>\n",
       "<table border=\"1\" class=\"dataframe\">\n",
       "  <thead>\n",
       "    <tr style=\"text-align: right;\">\n",
       "      <th></th>\n",
       "      <th>id_evento_caso</th>\n",
       "      <th>sexo</th>\n",
       "      <th>edad</th>\n",
       "      <th>edad_años_meses</th>\n",
       "      <th>residencia_pais_nombre</th>\n",
       "      <th>residencia_provincia_nombre</th>\n",
       "      <th>residencia_departamento_nombre</th>\n",
       "      <th>carga_provincia_nombre</th>\n",
       "      <th>fecha_inicio_sintomas</th>\n",
       "      <th>fecha_apertura</th>\n",
       "      <th>...</th>\n",
       "      <th>fecha_fallecimiento</th>\n",
       "      <th>asistencia_respiratoria_mecanica</th>\n",
       "      <th>carga_provincia_id</th>\n",
       "      <th>origen_financiamiento</th>\n",
       "      <th>clasificacion</th>\n",
       "      <th>clasificacion_resumen</th>\n",
       "      <th>residencia_provincia_id</th>\n",
       "      <th>fecha_diagnostico</th>\n",
       "      <th>residencia_departamento_id</th>\n",
       "      <th>ultima_actualizacion</th>\n",
       "    </tr>\n",
       "  </thead>\n",
       "  <tbody>\n",
       "    <tr>\n",
       "      <th>0</th>\n",
       "      <td>1000000</td>\n",
       "      <td>M</td>\n",
       "      <td>53.0</td>\n",
       "      <td>Años</td>\n",
       "      <td>Argentina</td>\n",
       "      <td>CABA</td>\n",
       "      <td>SIN ESPECIFICAR</td>\n",
       "      <td>Buenos Aires</td>\n",
       "      <td>NaN</td>\n",
       "      <td>2020-06-01</td>\n",
       "      <td>...</td>\n",
       "      <td>NaN</td>\n",
       "      <td>NO</td>\n",
       "      <td>6</td>\n",
       "      <td>Privado</td>\n",
       "      <td>Caso Descartado</td>\n",
       "      <td>Descartado</td>\n",
       "      <td>2</td>\n",
       "      <td>2020-06-09</td>\n",
       "      <td>0</td>\n",
       "      <td>2020-10-22</td>\n",
       "    </tr>\n",
       "    <tr>\n",
       "      <th>1</th>\n",
       "      <td>1000002</td>\n",
       "      <td>M</td>\n",
       "      <td>21.0</td>\n",
       "      <td>Años</td>\n",
       "      <td>Argentina</td>\n",
       "      <td>Buenos Aires</td>\n",
       "      <td>La Matanza</td>\n",
       "      <td>Buenos Aires</td>\n",
       "      <td>NaN</td>\n",
       "      <td>2020-06-01</td>\n",
       "      <td>...</td>\n",
       "      <td>NaN</td>\n",
       "      <td>NO</td>\n",
       "      <td>6</td>\n",
       "      <td>Público</td>\n",
       "      <td>Caso Descartado</td>\n",
       "      <td>Descartado</td>\n",
       "      <td>6</td>\n",
       "      <td>2020-06-01</td>\n",
       "      <td>427</td>\n",
       "      <td>2020-10-22</td>\n",
       "    </tr>\n",
       "    <tr>\n",
       "      <th>2</th>\n",
       "      <td>1000003</td>\n",
       "      <td>F</td>\n",
       "      <td>40.0</td>\n",
       "      <td>Años</td>\n",
       "      <td>Argentina</td>\n",
       "      <td>Córdoba</td>\n",
       "      <td>Capital</td>\n",
       "      <td>Córdoba</td>\n",
       "      <td>2020-05-24</td>\n",
       "      <td>2020-06-01</td>\n",
       "      <td>...</td>\n",
       "      <td>NaN</td>\n",
       "      <td>NO</td>\n",
       "      <td>14</td>\n",
       "      <td>Privado</td>\n",
       "      <td>Caso Descartado</td>\n",
       "      <td>Descartado</td>\n",
       "      <td>14</td>\n",
       "      <td>2020-06-01</td>\n",
       "      <td>14</td>\n",
       "      <td>2020-10-22</td>\n",
       "    </tr>\n",
       "    <tr>\n",
       "      <th>3</th>\n",
       "      <td>1000005</td>\n",
       "      <td>F</td>\n",
       "      <td>58.0</td>\n",
       "      <td>Años</td>\n",
       "      <td>Argentina</td>\n",
       "      <td>Mendoza</td>\n",
       "      <td>Las Heras</td>\n",
       "      <td>Mendoza</td>\n",
       "      <td>NaN</td>\n",
       "      <td>2020-06-01</td>\n",
       "      <td>...</td>\n",
       "      <td>NaN</td>\n",
       "      <td>NO</td>\n",
       "      <td>50</td>\n",
       "      <td>Público</td>\n",
       "      <td>Caso Descartado</td>\n",
       "      <td>Descartado</td>\n",
       "      <td>50</td>\n",
       "      <td>2020-06-01</td>\n",
       "      <td>49</td>\n",
       "      <td>2020-10-22</td>\n",
       "    </tr>\n",
       "    <tr>\n",
       "      <th>4</th>\n",
       "      <td>1000006</td>\n",
       "      <td>M</td>\n",
       "      <td>28.0</td>\n",
       "      <td>Años</td>\n",
       "      <td>Argentina</td>\n",
       "      <td>Buenos Aires</td>\n",
       "      <td>Malvinas Argentinas</td>\n",
       "      <td>Buenos Aires</td>\n",
       "      <td>2020-05-30</td>\n",
       "      <td>2020-06-01</td>\n",
       "      <td>...</td>\n",
       "      <td>NaN</td>\n",
       "      <td>NO</td>\n",
       "      <td>6</td>\n",
       "      <td>Público</td>\n",
       "      <td>Caso sospechoso - Con muestra sin resultado co...</td>\n",
       "      <td>Sospechoso</td>\n",
       "      <td>6</td>\n",
       "      <td>NaN</td>\n",
       "      <td>515</td>\n",
       "      <td>2020-10-22</td>\n",
       "    </tr>\n",
       "  </tbody>\n",
       "</table>\n",
       "<p>5 rows × 25 columns</p>\n",
       "</div>"
      ],
      "text/plain": [
       "   id_evento_caso sexo  edad edad_años_meses residencia_pais_nombre  \\\n",
       "0         1000000    M  53.0            Años              Argentina   \n",
       "1         1000002    M  21.0            Años              Argentina   \n",
       "2         1000003    F  40.0            Años              Argentina   \n",
       "3         1000005    F  58.0            Años              Argentina   \n",
       "4         1000006    M  28.0            Años              Argentina   \n",
       "\n",
       "  residencia_provincia_nombre residencia_departamento_nombre  \\\n",
       "0                        CABA                SIN ESPECIFICAR   \n",
       "1                Buenos Aires                     La Matanza   \n",
       "2                     Córdoba                        Capital   \n",
       "3                     Mendoza                      Las Heras   \n",
       "4                Buenos Aires            Malvinas Argentinas   \n",
       "\n",
       "  carga_provincia_nombre fecha_inicio_sintomas fecha_apertura  ...  \\\n",
       "0           Buenos Aires                   NaN     2020-06-01  ...   \n",
       "1           Buenos Aires                   NaN     2020-06-01  ...   \n",
       "2                Córdoba            2020-05-24     2020-06-01  ...   \n",
       "3                Mendoza                   NaN     2020-06-01  ...   \n",
       "4           Buenos Aires            2020-05-30     2020-06-01  ...   \n",
       "\n",
       "   fecha_fallecimiento asistencia_respiratoria_mecanica carga_provincia_id  \\\n",
       "0                  NaN                               NO                  6   \n",
       "1                  NaN                               NO                  6   \n",
       "2                  NaN                               NO                 14   \n",
       "3                  NaN                               NO                 50   \n",
       "4                  NaN                               NO                  6   \n",
       "\n",
       "  origen_financiamiento                                      clasificacion  \\\n",
       "0               Privado                                    Caso Descartado   \n",
       "1               Público                                    Caso Descartado   \n",
       "2               Privado                                    Caso Descartado   \n",
       "3               Público                                    Caso Descartado   \n",
       "4               Público  Caso sospechoso - Con muestra sin resultado co...   \n",
       "\n",
       "  clasificacion_resumen residencia_provincia_id  fecha_diagnostico  \\\n",
       "0            Descartado                       2         2020-06-09   \n",
       "1            Descartado                       6         2020-06-01   \n",
       "2            Descartado                      14         2020-06-01   \n",
       "3            Descartado                      50         2020-06-01   \n",
       "4            Sospechoso                       6                NaN   \n",
       "\n",
       "  residencia_departamento_id ultima_actualizacion  \n",
       "0                          0           2020-10-22  \n",
       "1                        427           2020-10-22  \n",
       "2                         14           2020-10-22  \n",
       "3                         49           2020-10-22  \n",
       "4                        515           2020-10-22  \n",
       "\n",
       "[5 rows x 25 columns]"
      ]
     },
     "execution_count": 3,
     "metadata": {},
     "output_type": "execute_result"
    }
   ],
   "source": [
    "df1.head()"
   ]
  },
  {
   "cell_type": "code",
   "execution_count": 4,
   "metadata": {},
   "outputs": [
    {
     "data": {
      "text/plain": [
       "(2577962, 25)"
      ]
     },
     "execution_count": 4,
     "metadata": {},
     "output_type": "execute_result"
    }
   ],
   "source": [
    "df1.shape"
   ]
  },
  {
   "cell_type": "code",
   "execution_count": 5,
   "metadata": {},
   "outputs": [],
   "source": [
    "df = df1.loc[df1.loc[:, 'residencia_provincia_nombre'] == 'Córdoba']"
   ]
  },
  {
   "cell_type": "code",
   "execution_count": 6,
   "metadata": {},
   "outputs": [
    {
     "data": {
      "text/plain": [
       "array(['Córdoba'], dtype=object)"
      ]
     },
     "execution_count": 6,
     "metadata": {},
     "output_type": "execute_result"
    }
   ],
   "source": [
    "df[\"residencia_provincia_nombre\"].unique()"
   ]
  },
  {
   "cell_type": "code",
   "execution_count": 7,
   "metadata": {},
   "outputs": [
    {
     "data": {
      "text/plain": [
       "array(['Capital', 'San Justo', 'Colón', 'Punilla', 'Río Cuarto',\n",
       "       'Santa María', 'Juárez Celman', 'Río Segundo', 'Tercero Arriba',\n",
       "       'Cruz del Eje', 'General San Martín', 'Unión', 'Marcos Juárez',\n",
       "       'Calamuchita', 'Río Primero', 'SIN ESPECIFICAR', 'San Javier',\n",
       "       'General Roca', 'Ischilín', 'San Alberto',\n",
       "       'Presidente Roque Sáenz Peña', 'Totoral', 'Pocho', 'Tulumba',\n",
       "       'Río Seco', 'Minas', 'Sobremonte'], dtype=object)"
      ]
     },
     "execution_count": 7,
     "metadata": {},
     "output_type": "execute_result"
    }
   ],
   "source": [
    "df[\"residencia_departamento_nombre\"].unique()"
   ]
  },
  {
   "cell_type": "code",
   "execution_count": 8,
   "metadata": {},
   "outputs": [
    {
     "data": {
      "text/plain": [
       "(146461, 25)"
      ]
     },
     "execution_count": 8,
     "metadata": {},
     "output_type": "execute_result"
    }
   ],
   "source": [
    "df.shape"
   ]
  },
  {
   "cell_type": "code",
   "execution_count": 9,
   "metadata": {},
   "outputs": [
    {
     "data": {
      "text/html": [
       "<div>\n",
       "<style scoped>\n",
       "    .dataframe tbody tr th:only-of-type {\n",
       "        vertical-align: middle;\n",
       "    }\n",
       "\n",
       "    .dataframe tbody tr th {\n",
       "        vertical-align: top;\n",
       "    }\n",
       "\n",
       "    .dataframe thead th {\n",
       "        text-align: right;\n",
       "    }\n",
       "</style>\n",
       "<table border=\"1\" class=\"dataframe\">\n",
       "  <thead>\n",
       "    <tr style=\"text-align: right;\">\n",
       "      <th></th>\n",
       "      <th>id_evento_caso</th>\n",
       "      <th>edad</th>\n",
       "      <th>sepi_apertura</th>\n",
       "      <th>carga_provincia_id</th>\n",
       "      <th>residencia_provincia_id</th>\n",
       "      <th>residencia_departamento_id</th>\n",
       "    </tr>\n",
       "  </thead>\n",
       "  <tbody>\n",
       "    <tr>\n",
       "      <th>count</th>\n",
       "      <td>1.464610e+05</td>\n",
       "      <td>146424.000000</td>\n",
       "      <td>146461.000000</td>\n",
       "      <td>146461.000000</td>\n",
       "      <td>146461.0</td>\n",
       "      <td>146461.000000</td>\n",
       "    </tr>\n",
       "    <tr>\n",
       "      <th>mean</th>\n",
       "      <td>2.483784e+06</td>\n",
       "      <td>40.246729</td>\n",
       "      <td>35.630632</td>\n",
       "      <td>15.139962</td>\n",
       "      <td>14.0</td>\n",
       "      <td>52.737036</td>\n",
       "    </tr>\n",
       "    <tr>\n",
       "      <th>std</th>\n",
       "      <td>8.907391e+05</td>\n",
       "      <td>19.163420</td>\n",
       "      <td>7.426790</td>\n",
       "      <td>8.903301</td>\n",
       "      <td>0.0</td>\n",
       "      <td>51.464648</td>\n",
       "    </tr>\n",
       "    <tr>\n",
       "      <th>min</th>\n",
       "      <td>7.194050e+05</td>\n",
       "      <td>0.000000</td>\n",
       "      <td>6.000000</td>\n",
       "      <td>2.000000</td>\n",
       "      <td>14.0</td>\n",
       "      <td>0.000000</td>\n",
       "    </tr>\n",
       "    <tr>\n",
       "      <th>25%</th>\n",
       "      <td>1.756253e+06</td>\n",
       "      <td>27.000000</td>\n",
       "      <td>32.000000</td>\n",
       "      <td>14.000000</td>\n",
       "      <td>14.0</td>\n",
       "      <td>14.000000</td>\n",
       "    </tr>\n",
       "    <tr>\n",
       "      <th>50%</th>\n",
       "      <td>2.767545e+06</td>\n",
       "      <td>38.000000</td>\n",
       "      <td>39.000000</td>\n",
       "      <td>14.000000</td>\n",
       "      <td>14.0</td>\n",
       "      <td>14.000000</td>\n",
       "    </tr>\n",
       "    <tr>\n",
       "      <th>75%</th>\n",
       "      <td>3.233531e+06</td>\n",
       "      <td>52.000000</td>\n",
       "      <td>41.000000</td>\n",
       "      <td>14.000000</td>\n",
       "      <td>14.0</td>\n",
       "      <td>98.000000</td>\n",
       "    </tr>\n",
       "    <tr>\n",
       "      <th>max</th>\n",
       "      <td>3.684457e+06</td>\n",
       "      <td>120.000000</td>\n",
       "      <td>43.000000</td>\n",
       "      <td>94.000000</td>\n",
       "      <td>14.0</td>\n",
       "      <td>182.000000</td>\n",
       "    </tr>\n",
       "  </tbody>\n",
       "</table>\n",
       "</div>"
      ],
      "text/plain": [
       "       id_evento_caso           edad  sepi_apertura  carga_provincia_id  \\\n",
       "count    1.464610e+05  146424.000000  146461.000000       146461.000000   \n",
       "mean     2.483784e+06      40.246729      35.630632           15.139962   \n",
       "std      8.907391e+05      19.163420       7.426790            8.903301   \n",
       "min      7.194050e+05       0.000000       6.000000            2.000000   \n",
       "25%      1.756253e+06      27.000000      32.000000           14.000000   \n",
       "50%      2.767545e+06      38.000000      39.000000           14.000000   \n",
       "75%      3.233531e+06      52.000000      41.000000           14.000000   \n",
       "max      3.684457e+06     120.000000      43.000000           94.000000   \n",
       "\n",
       "       residencia_provincia_id  residencia_departamento_id  \n",
       "count                 146461.0               146461.000000  \n",
       "mean                      14.0                   52.737036  \n",
       "std                        0.0                   51.464648  \n",
       "min                       14.0                    0.000000  \n",
       "25%                       14.0                   14.000000  \n",
       "50%                       14.0                   14.000000  \n",
       "75%                       14.0                   98.000000  \n",
       "max                       14.0                  182.000000  "
      ]
     },
     "execution_count": 9,
     "metadata": {},
     "output_type": "execute_result"
    }
   ],
   "source": [
    "df.describe()"
   ]
  },
  {
   "cell_type": "code",
   "execution_count": 10,
   "metadata": {},
   "outputs": [
    {
     "name": "stdout",
     "output_type": "stream",
     "text": [
      "<class 'pandas.core.frame.DataFrame'>\n",
      "Int64Index: 146461 entries, 2 to 2577936\n",
      "Data columns (total 25 columns):\n",
      " #   Column                            Non-Null Count   Dtype  \n",
      "---  ------                            --------------   -----  \n",
      " 0   id_evento_caso                    146461 non-null  int64  \n",
      " 1   sexo                              146461 non-null  object \n",
      " 2   edad                              146424 non-null  float64\n",
      " 3   edad_años_meses                   146461 non-null  object \n",
      " 4   residencia_pais_nombre            146461 non-null  object \n",
      " 5   residencia_provincia_nombre       146461 non-null  object \n",
      " 6   residencia_departamento_nombre    146461 non-null  object \n",
      " 7   carga_provincia_nombre            146461 non-null  object \n",
      " 8   fecha_inicio_sintomas             58144 non-null   object \n",
      " 9   fecha_apertura                    146461 non-null  object \n",
      " 10  sepi_apertura                     146461 non-null  int64  \n",
      " 11  fecha_internacion                 5367 non-null    object \n",
      " 12  cuidado_intensivo                 146461 non-null  object \n",
      " 13  fecha_cui_intensivo               1958 non-null    object \n",
      " 14  fallecido                         146461 non-null  object \n",
      " 15  fecha_fallecimiento               1110 non-null    object \n",
      " 16  asistencia_respiratoria_mecanica  146461 non-null  object \n",
      " 17  carga_provincia_id                146461 non-null  int64  \n",
      " 18  origen_financiamiento             146461 non-null  object \n",
      " 19  clasificacion                     146461 non-null  object \n",
      " 20  clasificacion_resumen             146461 non-null  object \n",
      " 21  residencia_provincia_id           146461 non-null  int64  \n",
      " 22  fecha_diagnostico                 112358 non-null  object \n",
      " 23  residencia_departamento_id        146461 non-null  int64  \n",
      " 24  ultima_actualizacion              146461 non-null  object \n",
      "dtypes: float64(1), int64(5), object(19)\n",
      "memory usage: 29.1+ MB\n"
     ]
    }
   ],
   "source": [
    "df.info()"
   ]
  },
  {
   "cell_type": "code",
   "execution_count": 11,
   "metadata": {},
   "outputs": [
    {
     "data": {
      "text/plain": [
       "array(['id_evento_caso', 'sexo', 'edad', 'edad_años_meses',\n",
       "       'residencia_pais_nombre', 'residencia_provincia_nombre',\n",
       "       'residencia_departamento_nombre', 'carga_provincia_nombre',\n",
       "       'fecha_inicio_sintomas', 'fecha_apertura', 'sepi_apertura',\n",
       "       'fecha_internacion', 'cuidado_intensivo', 'fecha_cui_intensivo',\n",
       "       'fallecido', 'fecha_fallecimiento',\n",
       "       'asistencia_respiratoria_mecanica', 'carga_provincia_id',\n",
       "       'origen_financiamiento', 'clasificacion', 'clasificacion_resumen',\n",
       "       'residencia_provincia_id', 'fecha_diagnostico',\n",
       "       'residencia_departamento_id', 'ultima_actualizacion'], dtype=object)"
      ]
     },
     "execution_count": 11,
     "metadata": {},
     "output_type": "execute_result"
    }
   ],
   "source": [
    "df.columns.values"
   ]
  },
  {
   "cell_type": "markdown",
   "metadata": {},
   "source": [
    "# Limpieza de datos"
   ]
  },
  {
   "cell_type": "markdown",
   "metadata": {},
   "source": [
    "* Eliminamos columnas innecesarias\n",
    "* Reemplazamos los valores de tipo str por enteros"
   ]
  },
  {
   "cell_type": "code",
   "execution_count": 12,
   "metadata": {},
   "outputs": [
    {
     "name": "stderr",
     "output_type": "stream",
     "text": [
      "/opt/anaconda3/lib/python3.8/site-packages/pandas/core/frame.py:3990: SettingWithCopyWarning: \n",
      "A value is trying to be set on a copy of a slice from a DataFrame\n",
      "\n",
      "See the caveats in the documentation: https://pandas.pydata.org/pandas-docs/stable/user_guide/indexing.html#returning-a-view-versus-a-copy\n",
      "  return super().drop(\n"
     ]
    }
   ],
   "source": [
    "df.drop(['residencia_pais_nombre','ultima_actualizacion','carga_provincia_id',\n",
    "         'id_evento_caso','fecha_apertura','residencia_departamento_id',\n",
    "         'carga_provincia_nombre'], axis=1, inplace=True)"
   ]
  },
  {
   "cell_type": "code",
   "execution_count": 13,
   "metadata": {},
   "outputs": [
    {
     "data": {
      "text/plain": [
       "array(['Descartado', 'Sospechoso', 'Confirmado', 'Sin Clasificar'],\n",
       "      dtype=object)"
      ]
     },
     "execution_count": 13,
     "metadata": {},
     "output_type": "execute_result"
    }
   ],
   "source": [
    "df[\"clasificacion_resumen\"].unique()"
   ]
  },
  {
   "cell_type": "code",
   "execution_count": 14,
   "metadata": {},
   "outputs": [
    {
     "name": "stderr",
     "output_type": "stream",
     "text": [
      "/opt/anaconda3/lib/python3.8/site-packages/pandas/core/generic.py:6746: SettingWithCopyWarning: \n",
      "A value is trying to be set on a copy of a slice from a DataFrame\n",
      "\n",
      "See the caveats in the documentation: https://pandas.pydata.org/pandas-docs/stable/user_guide/indexing.html#returning-a-view-versus-a-copy\n",
      "  self._update_inplace(new_data)\n"
     ]
    }
   ],
   "source": [
    "#Reemplazamos los valores de la  columna sexo (F o M) a variables enteras\n",
    "df[\"sexo\"].replace(\"F\", 0, inplace=True)\n",
    "df[\"sexo\"].replace(\"M\", 1, inplace=True)\n",
    "df[\"sexo\"].replace(\"NR\", 2, inplace=True)"
   ]
  },
  {
   "cell_type": "code",
   "execution_count": 15,
   "metadata": {},
   "outputs": [],
   "source": [
    "#Reemplazamos los valores de la  columna cuidado_instensivo (SI o NO) a variables enteras\n",
    "df[\"cuidado_intensivo\"].replace(\"NO\", 0, inplace=True)\n",
    "df[\"cuidado_intensivo\"].replace(\"SI\", 1, inplace=True)"
   ]
  },
  {
   "cell_type": "code",
   "execution_count": 16,
   "metadata": {},
   "outputs": [],
   "source": [
    "#Reemplazamos los valores de la  columna asistencia_respiratoria_mecanica (SI o NO) a variables enteras\n",
    "df[\"asistencia_respiratoria_mecanica\"].replace(\"NO\", 0, inplace=True)\n",
    "df[\"asistencia_respiratoria_mecanica\"].replace(\"SI\", 1, inplace=True)"
   ]
  },
  {
   "cell_type": "code",
   "execution_count": 17,
   "metadata": {},
   "outputs": [],
   "source": [
    "#Reemplazamos los valores de la  columna fallecido (Si o No) a variables enteras\n",
    "df[\"fallecido\"].replace(\"NO\", 0, inplace=True)\n",
    "df[\"fallecido\"].replace(\"SI\", 1, inplace=True)"
   ]
  },
  {
   "cell_type": "code",
   "execution_count": 18,
   "metadata": {},
   "outputs": [],
   "source": [
    "#Reemplazamos los valores de la  columna clasificacion_resumen (casos confirmados, descartados, Sospechoso, Sin Clasificar) a variables enteras\n",
    "df['clasificacion_resumen'].replace(\"Descartado\", 1, inplace=True)\n",
    "df['clasificacion_resumen'].replace(\"Sospechoso\", 2, inplace=True)\n",
    "df['clasificacion_resumen'].replace(\"Sin Clasificar\", 3, inplace=True)\n",
    "df['clasificacion_resumen'].replace(\"Confirmado\", 4,inplace=True)"
   ]
  },
  {
   "cell_type": "code",
   "execution_count": 19,
   "metadata": {},
   "outputs": [
    {
     "data": {
      "text/html": [
       "<div>\n",
       "<style scoped>\n",
       "    .dataframe tbody tr th:only-of-type {\n",
       "        vertical-align: middle;\n",
       "    }\n",
       "\n",
       "    .dataframe tbody tr th {\n",
       "        vertical-align: top;\n",
       "    }\n",
       "\n",
       "    .dataframe thead th {\n",
       "        text-align: right;\n",
       "    }\n",
       "</style>\n",
       "<table border=\"1\" class=\"dataframe\">\n",
       "  <thead>\n",
       "    <tr style=\"text-align: right;\">\n",
       "      <th></th>\n",
       "      <th>sexo</th>\n",
       "      <th>edad</th>\n",
       "      <th>edad_años_meses</th>\n",
       "      <th>residencia_provincia_nombre</th>\n",
       "      <th>residencia_departamento_nombre</th>\n",
       "      <th>fecha_inicio_sintomas</th>\n",
       "      <th>sepi_apertura</th>\n",
       "      <th>fecha_internacion</th>\n",
       "      <th>cuidado_intensivo</th>\n",
       "      <th>fecha_cui_intensivo</th>\n",
       "      <th>fallecido</th>\n",
       "      <th>fecha_fallecimiento</th>\n",
       "      <th>asistencia_respiratoria_mecanica</th>\n",
       "      <th>origen_financiamiento</th>\n",
       "      <th>clasificacion</th>\n",
       "      <th>clasificacion_resumen</th>\n",
       "      <th>residencia_provincia_id</th>\n",
       "      <th>fecha_diagnostico</th>\n",
       "    </tr>\n",
       "  </thead>\n",
       "  <tbody>\n",
       "    <tr>\n",
       "      <th>851</th>\n",
       "      <td>0</td>\n",
       "      <td>26.0</td>\n",
       "      <td>Años</td>\n",
       "      <td>Córdoba</td>\n",
       "      <td>Capital</td>\n",
       "      <td>NaN</td>\n",
       "      <td>23</td>\n",
       "      <td>NaN</td>\n",
       "      <td>0</td>\n",
       "      <td>NaN</td>\n",
       "      <td>0</td>\n",
       "      <td>NaN</td>\n",
       "      <td>0</td>\n",
       "      <td>Público</td>\n",
       "      <td>Caso confirmado por laboratorio - No activo (p...</td>\n",
       "      <td>4</td>\n",
       "      <td>14</td>\n",
       "      <td>2020-10-03</td>\n",
       "    </tr>\n",
       "    <tr>\n",
       "      <th>872</th>\n",
       "      <td>1</td>\n",
       "      <td>59.0</td>\n",
       "      <td>Años</td>\n",
       "      <td>Córdoba</td>\n",
       "      <td>Río Cuarto</td>\n",
       "      <td>2020-05-30</td>\n",
       "      <td>23</td>\n",
       "      <td>NaN</td>\n",
       "      <td>0</td>\n",
       "      <td>NaN</td>\n",
       "      <td>0</td>\n",
       "      <td>NaN</td>\n",
       "      <td>0</td>\n",
       "      <td>Privado</td>\n",
       "      <td>Caso confirmado por laboratorio - No activo (p...</td>\n",
       "      <td>4</td>\n",
       "      <td>14</td>\n",
       "      <td>2020-08-30</td>\n",
       "    </tr>\n",
       "  </tbody>\n",
       "</table>\n",
       "</div>"
      ],
      "text/plain": [
       "     sexo  edad edad_años_meses residencia_provincia_nombre  \\\n",
       "851     0  26.0            Años                     Córdoba   \n",
       "872     1  59.0            Años                     Córdoba   \n",
       "\n",
       "    residencia_departamento_nombre fecha_inicio_sintomas  sepi_apertura  \\\n",
       "851                        Capital                   NaN             23   \n",
       "872                     Río Cuarto            2020-05-30             23   \n",
       "\n",
       "    fecha_internacion  cuidado_intensivo fecha_cui_intensivo  fallecido  \\\n",
       "851               NaN                  0                 NaN          0   \n",
       "872               NaN                  0                 NaN          0   \n",
       "\n",
       "    fecha_fallecimiento  asistencia_respiratoria_mecanica  \\\n",
       "851                 NaN                                 0   \n",
       "872                 NaN                                 0   \n",
       "\n",
       "    origen_financiamiento                                      clasificacion  \\\n",
       "851               Público  Caso confirmado por laboratorio - No activo (p...   \n",
       "872               Privado  Caso confirmado por laboratorio - No activo (p...   \n",
       "\n",
       "     clasificacion_resumen  residencia_provincia_id fecha_diagnostico  \n",
       "851                      4                       14        2020-10-03  \n",
       "872                      4                       14        2020-08-30  "
      ]
     },
     "execution_count": 19,
     "metadata": {},
     "output_type": "execute_result"
    }
   ],
   "source": [
    "#Nos quedamos con las filas que tienen covid\n",
    "casos_conf = df[df[\"clasificacion_resumen\"] == 4]\n",
    "casos_conf.head(2)"
   ]
  },
  {
   "cell_type": "code",
   "execution_count": 20,
   "metadata": {},
   "outputs": [
    {
     "data": {
      "text/plain": [
       "array([0, 1, 2])"
      ]
     },
     "execution_count": 20,
     "metadata": {},
     "output_type": "execute_result"
    }
   ],
   "source": [
    "casos_conf[\"sexo\"].unique()"
   ]
  },
  {
   "cell_type": "code",
   "execution_count": 21,
   "metadata": {},
   "outputs": [
    {
     "data": {
      "text/plain": [
       "array([1, 2, 4, 3])"
      ]
     },
     "execution_count": 21,
     "metadata": {},
     "output_type": "execute_result"
    }
   ],
   "source": [
    "df[\"clasificacion_resumen\"].unique()"
   ]
  },
  {
   "cell_type": "markdown",
   "metadata": {},
   "source": [
    "## Algunas conclusiones"
   ]
  },
  {
   "cell_type": "code",
   "execution_count": 22,
   "metadata": {},
   "outputs": [
    {
     "name": "stdout",
     "output_type": "stream",
     "text": [
      "Casos descartados: 60376\n",
      "Casos sospechosos: 15461\n",
      "Casos sin calificar: 13\n",
      "Casos confirmados: 70611\n"
     ]
    }
   ],
   "source": [
    "print (f\"Casos descartados: {(df['clasificacion_resumen'] == 1).sum()}\")\n",
    "print (f\"Casos sospechosos: {(df['clasificacion_resumen'] == 2).sum()}\")\n",
    "print (f\"Casos sin calificar: {(df['clasificacion_resumen'] == 3).sum()}\")\n",
    "print (f\"Casos confirmados: {(df['clasificacion_resumen'] == 4).sum()}\")"
   ]
  },
  {
   "cell_type": "code",
   "execution_count": 23,
   "metadata": {},
   "outputs": [
    {
     "name": "stdout",
     "output_type": "stream",
     "text": [
      "Fallecidos 1110\n"
     ]
    }
   ],
   "source": [
    "print (f\"Fallecidos {(df['fallecido']==1).sum()}\")"
   ]
  },
  {
   "cell_type": "code",
   "execution_count": 24,
   "metadata": {},
   "outputs": [
    {
     "name": "stdout",
     "output_type": "stream",
     "text": [
      "Mujeres confirmadas: 35740\n",
      "Hombres confirmados: 34830\n"
     ]
    }
   ],
   "source": [
    "print (f\"Mujeres confirmadas: {(casos_conf['sexo'] == 0).sum()}\")\n",
    "print (f\"Hombres confirmados: {(casos_conf['sexo'] == 1).sum()}\")"
   ]
  },
  {
   "cell_type": "code",
   "execution_count": 25,
   "metadata": {},
   "outputs": [
    {
     "name": "stdout",
     "output_type": "stream",
     "text": [
      "Personas menores a 10 (inclusive) contagidas: 2089\n",
      "Personas mayores a 10 y menores de 20 (inclusive) contagidas: 5660\n",
      "Personas mayores a 20 y menores de 30 (inclusive) contagidas: 15090\n",
      "Personas mayores a 30 y menores de 40 (inclusive) contagidas: 15034\n",
      "Personas mayores a 40 y menores de 50 (inclusive) contagidas: 12818\n",
      "Personas mayores a 50 y menores de 60 (inclusive) contagidas: 8959\n",
      "Personas mayores a 60 y menores de 70 (inclusive) contagidas: 5728\n",
      "Personas mayores a 70 y menores de 80 (inclusive) contagidas: 3165\n",
      "Personas mayores a 80 y menores de 90 (inclusive) contagidas: 1664\n",
      "Personas mayores a 90 contagiados: 390\n"
     ]
    }
   ],
   "source": [
    "#El 61% de los contagiados esta entre los 20 y 50\n",
    "print (f\"Personas menores a 10 (inclusive) contagidas: {(casos_conf['edad'] <= 10).sum()}\")\n",
    "print (f\"Personas mayores a 10 y menores de 20 (inclusive) contagidas: {((casos_conf['edad'] > 10) & (casos_conf['edad'] <= 20)).sum()}\")\n",
    "print (f\"Personas mayores a 20 y menores de 30 (inclusive) contagidas: {((casos_conf['edad'] > 20) & (casos_conf['edad'] <= 30)).sum()}\")\n",
    "print (f\"Personas mayores a 30 y menores de 40 (inclusive) contagidas: {((casos_conf['edad'] > 30) & (casos_conf['edad'] <= 40)).sum()}\")\n",
    "print (f\"Personas mayores a 40 y menores de 50 (inclusive) contagidas: {((casos_conf['edad'] > 40) & (casos_conf['edad'] <= 50)).sum()}\")\n",
    "print (f\"Personas mayores a 50 y menores de 60 (inclusive) contagidas: {((casos_conf['edad'] > 50) & (casos_conf['edad'] <= 60)).sum()}\")\n",
    "print (f\"Personas mayores a 60 y menores de 70 (inclusive) contagidas: {((casos_conf['edad'] > 60) & (casos_conf['edad'] <= 70)).sum()}\")\n",
    "print (f\"Personas mayores a 70 y menores de 80 (inclusive) contagidas: {((casos_conf['edad'] > 70) & (casos_conf['edad'] <= 80)).sum()}\")\n",
    "print (f\"Personas mayores a 80 y menores de 90 (inclusive) contagidas: {((casos_conf['edad'] > 80) & (casos_conf['edad'] <= 90)).sum()}\")\n",
    "print (f\"Personas mayores a 90 contagiados: {((casos_conf['edad'] > 90)).sum()}\")"
   ]
  },
  {
   "cell_type": "code",
   "execution_count": 26,
   "metadata": {},
   "outputs": [
    {
     "name": "stdout",
     "output_type": "stream",
     "text": [
      "Cantidad de casos en Capital: 32302\n",
      "Cantidad de casos en Río Cuarto: 9388\n",
      "Cantidad de casos en General San Martín: 3583\n",
      "Cantidad de casos en Unión: 1343\n",
      "Cantidad de casos en Marcos Juárez: 2956\n",
      "Cantidad de casos en Río Primero: 871\n",
      "Cantidad de casos en Calamuchita: 936\n",
      "Cantidad de casos en Punilla: 1836\n",
      "Cantidad de casos en Colón: 3805\n",
      "Cantidad de casos en San Justo: 1767\n",
      "Cantidad de casos en Santa María: 2007\n",
      "Cantidad de casos en San Javier: 508\n",
      "Cantidad de casos en San Alberto: 188\n",
      "Cantidad de casos en Tercero Arriba: 3436\n",
      "Cantidad de casos en Río Segundo: 1873\n",
      "Cantidad de casos en General Roca: 335\n",
      "Cantidad de casos en Juárez Celman: 1500\n",
      "Cantidad de casos en Cruz del Eje: 323\n",
      "Cantidad de casos en Totoral: 204\n",
      "Cantidad de casos en Presidente Roque Sáenz Peña: 568\n",
      "Cantidad de casos en SIN ESPECIFICAR: 360\n",
      "Cantidad de casos en Río Seco: 58\n",
      "Cantidad de casos en Minas: 22\n",
      "Cantidad de casos en Tulumba: 73\n",
      "Cantidad de casos en Ischilín: 320\n",
      "Cantidad de casos en Sobremonte: 35\n",
      "Cantidad de casos en Pocho: 14\n"
     ]
    }
   ],
   "source": [
    "#Casos por departamento\n",
    "departamento = casos_conf[\"residencia_departamento_nombre\"].unique()\n",
    "for i in departamento:\n",
    "    print (f\"Cantidad de casos en {i}: {(casos_conf['residencia_departamento_nombre'] == i).sum()}\")"
   ]
  },
  {
   "cell_type": "code",
   "execution_count": 27,
   "metadata": {},
   "outputs": [
    {
     "name": "stdout",
     "output_type": "stream",
     "text": [
      "(1110, 18)\n",
      "1110\n"
     ]
    }
   ],
   "source": [
    "casos_fall = df[df[\"fallecido\"] == 1]\n",
    "print(casos_fall.shape)\n",
    "print(casos_fall[\"fallecido\"].sum())"
   ]
  },
  {
   "cell_type": "code",
   "execution_count": 28,
   "metadata": {},
   "outputs": [
    {
     "name": "stdout",
     "output_type": "stream",
     "text": [
      "Mujeres fallecidas: 477\n",
      "Hombres fallecidos: 630\n",
      "Esto seria de los fallecidos un 57% son hombres y un 43% mujeres\n",
      "Porcentaje hombres fallecidos: 56.76%\n",
      "Porcentaje mujeres fallecidos: 42.97%\n"
     ]
    }
   ],
   "source": [
    "cant_fall = casos_fall[\"fallecido\"].sum()\n",
    "cant_fall_homb = (casos_fall['sexo'] == 1).sum()\n",
    "cant_fall_muj = (casos_fall['sexo'] == 0).sum()\n",
    "\n",
    "print (f\"Mujeres fallecidas: {cant_fall_muj}\")\n",
    "print (f\"Hombres fallecidos: {cant_fall_homb}\")\n",
    "\n",
    "porc_homb_fall = (cant_fall_homb / cant_fall)*100\n",
    "porc_muj_fall = (cant_fall_muj / cant_fall)*100\n",
    "print (\"Esto seria de los fallecidos un 57% son hombres y un 43% mujeres\")\n",
    "print (f\"Porcentaje hombres fallecidos: {round(porc_homb_fall,2)}%\")\n",
    "print (f\"Porcentaje mujeres fallecidos: {round(porc_muj_fall,2)}%\")"
   ]
  },
  {
   "cell_type": "code",
   "execution_count": 29,
   "metadata": {},
   "outputs": [
    {
     "data": {
      "text/plain": [
       "73.43"
      ]
     },
     "execution_count": 29,
     "metadata": {},
     "output_type": "execute_result"
    }
   ],
   "source": [
    "#Promedio de edad de fallecidos 73.4\n",
    "prom_edad_fallecidos = casos_fall[\"edad\"].mean()\n",
    "round(prom_edad_fallecidos, 2)"
   ]
  },
  {
   "cell_type": "code",
   "execution_count": 30,
   "metadata": {},
   "outputs": [
    {
     "data": {
      "text/html": [
       "<div>\n",
       "<style scoped>\n",
       "    .dataframe tbody tr th:only-of-type {\n",
       "        vertical-align: middle;\n",
       "    }\n",
       "\n",
       "    .dataframe tbody tr th {\n",
       "        vertical-align: top;\n",
       "    }\n",
       "\n",
       "    .dataframe thead th {\n",
       "        text-align: right;\n",
       "    }\n",
       "</style>\n",
       "<table border=\"1\" class=\"dataframe\">\n",
       "  <thead>\n",
       "    <tr style=\"text-align: right;\">\n",
       "      <th></th>\n",
       "      <th>fallecido</th>\n",
       "    </tr>\n",
       "    <tr>\n",
       "      <th>sexo</th>\n",
       "      <th></th>\n",
       "    </tr>\n",
       "  </thead>\n",
       "  <tbody>\n",
       "    <tr>\n",
       "      <th>0</th>\n",
       "      <td>0.012395</td>\n",
       "    </tr>\n",
       "    <tr>\n",
       "      <th>1</th>\n",
       "      <td>0.016796</td>\n",
       "    </tr>\n",
       "    <tr>\n",
       "      <th>2</th>\n",
       "      <td>0.073171</td>\n",
       "    </tr>\n",
       "  </tbody>\n",
       "</table>\n",
       "</div>"
      ],
      "text/plain": [
       "      fallecido\n",
       "sexo           \n",
       "0      0.012395\n",
       "1      0.016796\n",
       "2      0.073171"
      ]
     },
     "execution_count": 30,
     "metadata": {},
     "output_type": "execute_result"
    }
   ],
   "source": [
    "#Como fallecido es 0 y 1, podemos concluir que el 1.23% de las mujeres contagiadas fallecen y el 1.16% de los hombres contagiados fallecen en cordoba\n",
    "casos_conf[[\"sexo\", \"fallecido\"]].groupby(\"sexo\").mean()"
   ]
  },
  {
   "cell_type": "code",
   "execution_count": 31,
   "metadata": {},
   "outputs": [
    {
     "data": {
      "text/html": [
       "<div>\n",
       "<style scoped>\n",
       "    .dataframe tbody tr th:only-of-type {\n",
       "        vertical-align: middle;\n",
       "    }\n",
       "\n",
       "    .dataframe tbody tr th {\n",
       "        vertical-align: top;\n",
       "    }\n",
       "\n",
       "    .dataframe thead th {\n",
       "        text-align: right;\n",
       "    }\n",
       "</style>\n",
       "<table border=\"1\" class=\"dataframe\">\n",
       "  <thead>\n",
       "    <tr style=\"text-align: right;\">\n",
       "      <th></th>\n",
       "      <th>edad</th>\n",
       "    </tr>\n",
       "    <tr>\n",
       "      <th>asistencia_respiratoria_mecanica</th>\n",
       "      <th></th>\n",
       "    </tr>\n",
       "  </thead>\n",
       "  <tbody>\n",
       "    <tr>\n",
       "      <th>0</th>\n",
       "      <td>40.906055</td>\n",
       "    </tr>\n",
       "    <tr>\n",
       "      <th>1</th>\n",
       "      <td>67.581560</td>\n",
       "    </tr>\n",
       "  </tbody>\n",
       "</table>\n",
       "</div>"
      ],
      "text/plain": [
       "                                       edad\n",
       "asistencia_respiratoria_mecanica           \n",
       "0                                 40.906055\n",
       "1                                 67.581560"
      ]
     },
     "execution_count": 31,
     "metadata": {},
     "output_type": "execute_result"
    }
   ],
   "source": [
    "#El promedio de edad de personas que no necesitaron respiracion asistida fue de 41, y el promedio de personas\n",
    "#que si necesitaron respiracion asistida fue de 68\n",
    "casos_conf[[\"asistencia_respiratoria_mecanica\", \"edad\"]].groupby(\"asistencia_respiratoria_mecanica\").mean()"
   ]
  },
  {
   "cell_type": "code",
   "execution_count": 32,
   "metadata": {},
   "outputs": [
    {
     "name": "stdout",
     "output_type": "stream",
     "text": [
      "De los casos confirmados un 0.2% necesitó respiracion asistida\n"
     ]
    }
   ],
   "source": [
    "casos_conf_ar = (casos_conf[\"asistencia_respiratoria_mecanica\"] == 1).sum()\n",
    "casos_confirmados = (df['clasificacion_resumen'] == 4).sum()\n",
    "porcentaje_resp_asist = casos_conf_ar/casos_confirmados*100\n",
    "print (f\"De los casos confirmados un {round(porcentaje_resp_asist,2)}% necesitó respiracion asistida\")"
   ]
  },
  {
   "cell_type": "code",
   "execution_count": 33,
   "metadata": {},
   "outputs": [
    {
     "data": {
      "text/html": [
       "<div>\n",
       "<style scoped>\n",
       "    .dataframe tbody tr th:only-of-type {\n",
       "        vertical-align: middle;\n",
       "    }\n",
       "\n",
       "    .dataframe tbody tr th {\n",
       "        vertical-align: top;\n",
       "    }\n",
       "\n",
       "    .dataframe thead th {\n",
       "        text-align: right;\n",
       "    }\n",
       "</style>\n",
       "<table border=\"1\" class=\"dataframe\">\n",
       "  <thead>\n",
       "    <tr style=\"text-align: right;\">\n",
       "      <th></th>\n",
       "      <th>edad</th>\n",
       "    </tr>\n",
       "    <tr>\n",
       "      <th>cuidado_intensivo</th>\n",
       "      <th></th>\n",
       "    </tr>\n",
       "  </thead>\n",
       "  <tbody>\n",
       "    <tr>\n",
       "      <th>0</th>\n",
       "      <td>40.729272</td>\n",
       "    </tr>\n",
       "    <tr>\n",
       "      <th>1</th>\n",
       "      <td>69.732143</td>\n",
       "    </tr>\n",
       "  </tbody>\n",
       "</table>\n",
       "</div>"
      ],
      "text/plain": [
       "                        edad\n",
       "cuidado_intensivo           \n",
       "0                  40.729272\n",
       "1                  69.732143"
      ]
     },
     "execution_count": 33,
     "metadata": {},
     "output_type": "execute_result"
    }
   ],
   "source": [
    "#El promedio de edad de confirmados con cuidado intensivo  es de 70 y el promedio de de edad que no recibieron cuidado intensivo es de 40 \n",
    "casos_conf[[\"cuidado_intensivo\", \"edad\"]].groupby(\"cuidado_intensivo\").mean()"
   ]
  },
  {
   "cell_type": "markdown",
   "metadata": {},
   "source": [
    "## Algunos graficos"
   ]
  },
  {
   "cell_type": "code",
   "execution_count": 34,
   "metadata": {},
   "outputs": [
    {
     "data": {
      "image/png": "[encoded data removed]",
      "text/plain": [
       "<Figure size 576x360 with 1 Axes>"
      ]
     },
     "metadata": {},
     "output_type": "display_data"
    }
   ],
   "source": [
    "si = casos_conf.loc[casos_conf['fallecido'] == 1].count()[0]\n",
    "no = casos_conf.loc[casos_conf['fallecido'] == 0].count()[0]\n",
    "\n",
    "plt.figure(figsize=(8,5))\n",
    "\n",
    "labels = ['Si', 'No']\n",
    "colors = ['#abcdef', '#aabbcc']\n",
    "\n",
    "plt.pie([si, no], labels = labels, colors=colors, autopct='%.2f %%')\n",
    "\n",
    "plt.title('Pacientes confirmados fallecidos')\n",
    "\n",
    "plt.show()"
   ]
  },
  {
   "cell_type": "code",
   "execution_count": 35,
   "metadata": {},
   "outputs": [
    {
     "data": {
      "image/png": "[encoded data removed]",
      "text/plain": [
       "<Figure size 576x360 with 1 Axes>"
      ]
     },
     "metadata": {},
     "output_type": "display_data"
    }
   ],
   "source": [
    "si = casos_conf.loc[casos_conf['asistencia_respiratoria_mecanica'] == 1].count()[0]\n",
    "no = casos_conf.loc[casos_conf['asistencia_respiratoria_mecanica'] == 0].count()[0]\n",
    "\n",
    "plt.figure(figsize=(8,5))\n",
    "\n",
    "labels = ['Si', 'No']\n",
    "colors = ['#abcdef', '#aabbcc']\n",
    "\n",
    "plt.pie([si, no], labels = labels, colors=colors, autopct='%.2f %%')\n",
    "\n",
    "plt.title('Pacientes confirmados con asistencia respiratoria')\n",
    "\n",
    "plt.show()"
   ]
  },
  {
   "cell_type": "code",
   "execution_count": 36,
   "metadata": {},
   "outputs": [
    {
     "data": {
      "image/png": "[encoded data removed]",
      "text/plain": [
       "<Figure size 576x360 with 1 Axes>"
      ]
     },
     "metadata": {},
     "output_type": "display_data"
    }
   ],
   "source": [
    "si = casos_conf.loc[casos_conf['cuidado_intensivo'] == 1].count()[0]\n",
    "no = casos_conf.loc[casos_conf['cuidado_intensivo'] == 0].count()[0]\n",
    "\n",
    "plt.figure(figsize=(8,5))\n",
    "\n",
    "labels = ['Si', 'No']\n",
    "colors = ['#abcdef', '#aabbcc']\n",
    "\n",
    "plt.pie([si, no], labels = labels, colors=colors, autopct='%.2f %%')\n",
    "\n",
    "plt.title('Pacientes confirmados con cuidado intensivo')\n",
    "\n",
    "plt.show()"
   ]
  },
  {
   "cell_type": "code",
   "execution_count": null,
   "metadata": {},
   "outputs": [],
   "source": []
  }
 ],
 "metadata": {
  "kernelspec": {
   "display_name": "Python 3",
   "language": "python",
   "name": "python3"
  },
  "language_info": {
   "codemirror_mode": {
    "name": "ipython",
    "version": 3
   },
   "file_extension": ".py",
   "mimetype": "text/x-python",
   "name": "python",
   "nbconvert_exporter": "python",
   "pygments_lexer": "ipython3",
   "version": "3.8.5"
  }
 },
 "nbformat": 4,
 "nbformat_minor": 4
}
