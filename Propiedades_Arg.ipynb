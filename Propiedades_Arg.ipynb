{
 "cells": [
  {
   "cell_type": "markdown",
   "metadata": {},
   "source": [
    "## Predicción de precios de propiedades en la Argentina"
   ]
  },
  {
   "cell_type": "markdown",
   "metadata": {},
   "source": [
    "* En este proyecto personal vamos a intentar predecir el precio de una propiedad dependiendo de su ubicación, metros cuadrados del terrreno, metros cuadrados cubiertos y cantidad de habitaciones\n",
    "* Los datos fueron extraidos de la pagina: https://data.world/"
   ]
  },
  {
   "cell_type": "markdown",
   "metadata": {},
   "source": [
    "Leemos los datos y vemos algunas caracteristicas"
   ]
  },
  {
   "cell_type": "code",
   "execution_count": 1,
   "metadata": {},
   "outputs": [],
   "source": [
    "import pandas as pd\n",
    "import numpy as np\n",
    "import matplotlib.pyplot as plt"
   ]
  },
  {
   "cell_type": "code",
   "execution_count": 2,
   "metadata": {},
   "outputs": [
    {
     "name": "stderr",
     "output_type": "stream",
     "text": [
      "/opt/anaconda3/lib/python3.8/site-packages/IPython/core/interactiveshell.py:3071: DtypeWarning: Columns (19) have mixed types.Specify dtype option on import or set low_memory=False.\n",
      "  has_raised = await self.run_ast_nodes(code_ast.body, cell_name,\n"
     ]
    },
    {
     "data": {
      "text/html": [
       "<div>\n",
       "<style scoped>\n",
       "    .dataframe tbody tr th:only-of-type {\n",
       "        vertical-align: middle;\n",
       "    }\n",
       "\n",
       "    .dataframe tbody tr th {\n",
       "        vertical-align: top;\n",
       "    }\n",
       "\n",
       "    .dataframe thead th {\n",
       "        text-align: right;\n",
       "    }\n",
       "</style>\n",
       "<table border=\"1\" class=\"dataframe\">\n",
       "  <thead>\n",
       "    <tr style=\"text-align: right;\">\n",
       "      <th></th>\n",
       "      <th>created_on</th>\n",
       "      <th>operation</th>\n",
       "      <th>property_type</th>\n",
       "      <th>place_name</th>\n",
       "      <th>place_with_parent_names</th>\n",
       "      <th>geonames_id</th>\n",
       "      <th>lat-lon</th>\n",
       "      <th>lat</th>\n",
       "      <th>lon</th>\n",
       "      <th>price</th>\n",
       "      <th>...</th>\n",
       "      <th>surface_covered_in_m2</th>\n",
       "      <th>price_usd_per_m2</th>\n",
       "      <th>price_per_m2</th>\n",
       "      <th>floor</th>\n",
       "      <th>rooms</th>\n",
       "      <th>expenses</th>\n",
       "      <th>properati_url</th>\n",
       "      <th>description</th>\n",
       "      <th>title</th>\n",
       "      <th>image_thumbnail</th>\n",
       "    </tr>\n",
       "  </thead>\n",
       "  <tbody>\n",
       "    <tr>\n",
       "      <th>0</th>\n",
       "      <td>2012-09-19</td>\n",
       "      <td>sell</td>\n",
       "      <td>house</td>\n",
       "      <td>San Antonio De Padua</td>\n",
       "      <td>|Argentina|Bs.As. G.B.A. Zona Oeste|Merlo|San ...</td>\n",
       "      <td>3429244.0</td>\n",
       "      <td>-34.6566088,-58.8069107</td>\n",
       "      <td>-34.656609</td>\n",
       "      <td>-58.806911</td>\n",
       "      <td>120000.0</td>\n",
       "      <td>...</td>\n",
       "      <td>93.0</td>\n",
       "      <td>360.360360</td>\n",
       "      <td>1290.322581</td>\n",
       "      <td>NaN</td>\n",
       "      <td>NaN</td>\n",
       "      <td>NaN</td>\n",
       "      <td>http://san-antonio-de-padua.properati.com.ar/u...</td>\n",
       "      <td>CASA CON LOCAL EN VENTA EN PADUA.2 DORMITORIOS...</td>\n",
       "      <td>CASA EN VENTA</td>\n",
       "      <td>https://thumbs-cf.properati.com/4/aKcEetbJUfrn...</td>\n",
       "    </tr>\n",
       "    <tr>\n",
       "      <th>1</th>\n",
       "      <td>2012-10-10</td>\n",
       "      <td>sell</td>\n",
       "      <td>apartment</td>\n",
       "      <td>Villa Crespo</td>\n",
       "      <td>|Argentina|Capital Federal|Villa Crespo|</td>\n",
       "      <td>3427458.0</td>\n",
       "      <td>-34.6036844,-58.3815591</td>\n",
       "      <td>-34.603684</td>\n",
       "      <td>-58.381559</td>\n",
       "      <td>83000.0</td>\n",
       "      <td>...</td>\n",
       "      <td>40.0</td>\n",
       "      <td>2075.000000</td>\n",
       "      <td>2075.000000</td>\n",
       "      <td>1.0</td>\n",
       "      <td>2.0</td>\n",
       "      <td>300</td>\n",
       "      <td>http://villa-crespo.properati.com.ar/13tz_vent...</td>\n",
       "      <td>2 AMBIENTES, VENTA, VILLA CRESPO1ER PISO POR E...</td>\n",
       "      <td>DEPARTAMENTO EN VENTA</td>\n",
       "      <td>https://thumbs-cf.properati.com/8/ujkSk81S7fhu...</td>\n",
       "    </tr>\n",
       "    <tr>\n",
       "      <th>2</th>\n",
       "      <td>2012-10-22</td>\n",
       "      <td>sell</td>\n",
       "      <td>apartment</td>\n",
       "      <td>San Bernardo</td>\n",
       "      <td>|Argentina|Buenos Aires Costa Atlántica|San Be...</td>\n",
       "      <td>3429228.0</td>\n",
       "      <td>-36.6879204,-56.6780098</td>\n",
       "      <td>-36.687920</td>\n",
       "      <td>-56.678010</td>\n",
       "      <td>49000.0</td>\n",
       "      <td>...</td>\n",
       "      <td>42.0</td>\n",
       "      <td>1042.553191</td>\n",
       "      <td>1166.666667</td>\n",
       "      <td>7.0</td>\n",
       "      <td>3.0</td>\n",
       "      <td>750</td>\n",
       "      <td>http://san-bernardo-buenos-aires-costa-atlanti...</td>\n",
       "      <td>Comodo departamento 3 ambientes ubicado en cal...</td>\n",
       "      <td>DEPARTAMENTO EN VENTA</td>\n",
       "      <td>https://thumbs-cf.properati.com/6/n5yiUwL9Gjw3...</td>\n",
       "    </tr>\n",
       "    <tr>\n",
       "      <th>3</th>\n",
       "      <td>2012-10-22</td>\n",
       "      <td>sell</td>\n",
       "      <td>house</td>\n",
       "      <td>Maschwitz</td>\n",
       "      <td>|Argentina|Bs.As. G.B.A. Zona Norte|Escobar|Ma...</td>\n",
       "      <td>NaN</td>\n",
       "      <td>-34.3938943878,-58.7683713751</td>\n",
       "      <td>-34.393894</td>\n",
       "      <td>-58.768371</td>\n",
       "      <td>200000.0</td>\n",
       "      <td>...</td>\n",
       "      <td>200.0</td>\n",
       "      <td>800.000000</td>\n",
       "      <td>1000.000000</td>\n",
       "      <td>NaN</td>\n",
       "      <td>4.0</td>\n",
       "      <td>NaN</td>\n",
       "      <td>http://maschwitz.properati.com.ar/1w41_venta_c...</td>\n",
       "      <td>MUY BUENA CASA DE 3/4 DORMITORIOS Y CASA DE HU...</td>\n",
       "      <td>CASA EN VENTA</td>\n",
       "      <td>https://thumbs-cf.properati.com/4/KbG2PtmxJCVy...</td>\n",
       "    </tr>\n",
       "    <tr>\n",
       "      <th>4</th>\n",
       "      <td>2012-10-22</td>\n",
       "      <td>sell</td>\n",
       "      <td>house</td>\n",
       "      <td>San Antonio De Padua</td>\n",
       "      <td>|Argentina|Bs.As. G.B.A. Zona Oeste|Merlo|San ...</td>\n",
       "      <td>3429244.0</td>\n",
       "      <td>-34.668175,-58.6996246</td>\n",
       "      <td>-34.668175</td>\n",
       "      <td>-58.699625</td>\n",
       "      <td>NaN</td>\n",
       "      <td>...</td>\n",
       "      <td>220.0</td>\n",
       "      <td>NaN</td>\n",
       "      <td>NaN</td>\n",
       "      <td>NaN</td>\n",
       "      <td>NaN</td>\n",
       "      <td>NaN</td>\n",
       "      <td>http://san-antonio-de-padua.properati.com.ar/2...</td>\n",
       "      <td>CHALET VENTA 4 AMBIENTES PADUA.EXCELENTE CHALE...</td>\n",
       "      <td>CASA EN VENTA</td>\n",
       "      <td>https://thumbs-cf.properati.com/7/3xCBy82O4-k1...</td>\n",
       "    </tr>\n",
       "  </tbody>\n",
       "</table>\n",
       "<p>5 rows × 24 columns</p>\n",
       "</div>"
      ],
      "text/plain": [
       "   created_on operation property_type            place_name  \\\n",
       "0  2012-09-19      sell         house  San Antonio De Padua   \n",
       "1  2012-10-10      sell     apartment          Villa Crespo   \n",
       "2  2012-10-22      sell     apartment          San Bernardo   \n",
       "3  2012-10-22      sell         house             Maschwitz   \n",
       "4  2012-10-22      sell         house  San Antonio De Padua   \n",
       "\n",
       "                             place_with_parent_names  geonames_id  \\\n",
       "0  |Argentina|Bs.As. G.B.A. Zona Oeste|Merlo|San ...    3429244.0   \n",
       "1           |Argentina|Capital Federal|Villa Crespo|    3427458.0   \n",
       "2  |Argentina|Buenos Aires Costa Atlántica|San Be...    3429228.0   \n",
       "3  |Argentina|Bs.As. G.B.A. Zona Norte|Escobar|Ma...          NaN   \n",
       "4  |Argentina|Bs.As. G.B.A. Zona Oeste|Merlo|San ...    3429244.0   \n",
       "\n",
       "                         lat-lon        lat        lon     price  ...  \\\n",
       "0        -34.6566088,-58.8069107 -34.656609 -58.806911  120000.0  ...   \n",
       "1        -34.6036844,-58.3815591 -34.603684 -58.381559   83000.0  ...   \n",
       "2        -36.6879204,-56.6780098 -36.687920 -56.678010   49000.0  ...   \n",
       "3  -34.3938943878,-58.7683713751 -34.393894 -58.768371  200000.0  ...   \n",
       "4         -34.668175,-58.6996246 -34.668175 -58.699625       NaN  ...   \n",
       "\n",
       "  surface_covered_in_m2  price_usd_per_m2  price_per_m2  floor  rooms  \\\n",
       "0                  93.0        360.360360   1290.322581    NaN    NaN   \n",
       "1                  40.0       2075.000000   2075.000000    1.0    2.0   \n",
       "2                  42.0       1042.553191   1166.666667    7.0    3.0   \n",
       "3                 200.0        800.000000   1000.000000    NaN    4.0   \n",
       "4                 220.0               NaN           NaN    NaN    NaN   \n",
       "\n",
       "   expenses                                      properati_url  \\\n",
       "0       NaN  http://san-antonio-de-padua.properati.com.ar/u...   \n",
       "1       300  http://villa-crespo.properati.com.ar/13tz_vent...   \n",
       "2       750  http://san-bernardo-buenos-aires-costa-atlanti...   \n",
       "3       NaN  http://maschwitz.properati.com.ar/1w41_venta_c...   \n",
       "4       NaN  http://san-antonio-de-padua.properati.com.ar/2...   \n",
       "\n",
       "                                         description                  title  \\\n",
       "0  CASA CON LOCAL EN VENTA EN PADUA.2 DORMITORIOS...          CASA EN VENTA   \n",
       "1  2 AMBIENTES, VENTA, VILLA CRESPO1ER PISO POR E...  DEPARTAMENTO EN VENTA   \n",
       "2  Comodo departamento 3 ambientes ubicado en cal...  DEPARTAMENTO EN VENTA   \n",
       "3  MUY BUENA CASA DE 3/4 DORMITORIOS Y CASA DE HU...          CASA EN VENTA   \n",
       "4  CHALET VENTA 4 AMBIENTES PADUA.EXCELENTE CHALE...          CASA EN VENTA   \n",
       "\n",
       "                                     image_thumbnail  \n",
       "0  https://thumbs-cf.properati.com/4/aKcEetbJUfrn...  \n",
       "1  https://thumbs-cf.properati.com/8/ujkSk81S7fhu...  \n",
       "2  https://thumbs-cf.properati.com/6/n5yiUwL9Gjw3...  \n",
       "3  https://thumbs-cf.properati.com/4/KbG2PtmxJCVy...  \n",
       "4  https://thumbs-cf.properati.com/7/3xCBy82O4-k1...  \n",
       "\n",
       "[5 rows x 24 columns]"
      ]
     },
     "execution_count": 2,
     "metadata": {},
     "output_type": "execute_result"
    }
   ],
   "source": [
    "df = pd.read_csv(\"properati-AR-2016-11-01-properties-sell.csv\")\n",
    "df.head()"
   ]
  },
  {
   "cell_type": "code",
   "execution_count": 3,
   "metadata": {},
   "outputs": [
    {
     "data": {
      "text/plain": [
       "(145748, 24)"
      ]
     },
     "execution_count": 3,
     "metadata": {},
     "output_type": "execute_result"
    }
   ],
   "source": [
    "df.shape"
   ]
  },
  {
   "cell_type": "code",
   "execution_count": 4,
   "metadata": {},
   "outputs": [
    {
     "name": "stdout",
     "output_type": "stream",
     "text": [
      "<class 'pandas.core.frame.DataFrame'>\n",
      "RangeIndex: 145748 entries, 0 to 145747\n",
      "Data columns (total 24 columns):\n",
      " #   Column                      Non-Null Count   Dtype  \n",
      "---  ------                      --------------   -----  \n",
      " 0   created_on                  145748 non-null  object \n",
      " 1   operation                   145748 non-null  object \n",
      " 2   property_type               145748 non-null  object \n",
      " 3   place_name                  145725 non-null  object \n",
      " 4   place_with_parent_names     145748 non-null  object \n",
      " 5   geonames_id                 123873 non-null  float64\n",
      " 6   lat-lon                     118816 non-null  object \n",
      " 7   lat                         118816 non-null  float64\n",
      " 8   lon                         118815 non-null  float64\n",
      " 9   price                       123155 non-null  float64\n",
      " 10  currency                    123149 non-null  object \n",
      " 11  price_aprox_local_currency  123155 non-null  float64\n",
      " 12  price_aprox_usd             123155 non-null  float64\n",
      " 13  surface_total_in_m2         93515 non-null   float64\n",
      " 14  surface_covered_in_m2       113961 non-null  float64\n",
      " 15  price_usd_per_m2            74668 non-null   float64\n",
      " 16  price_per_m2                99322 non-null   float64\n",
      " 17  floor                       16674 non-null   float64\n",
      " 18  rooms                       80893 non-null   float64\n",
      " 19  expenses                    11389 non-null   object \n",
      " 20  properati_url               145748 non-null  object \n",
      " 21  description                 145747 non-null  object \n",
      " 22  title                       145748 non-null  object \n",
      " 23  image_thumbnail             143699 non-null  object \n",
      "dtypes: float64(12), object(12)\n",
      "memory usage: 26.7+ MB\n"
     ]
    }
   ],
   "source": [
    "df.info()"
   ]
  },
  {
   "cell_type": "code",
   "execution_count": 5,
   "metadata": {},
   "outputs": [
    {
     "data": {
      "text/plain": [
       "array(['created_on', 'operation', 'property_type', 'place_name',\n",
       "       'place_with_parent_names', 'geonames_id', 'lat-lon', 'lat', 'lon',\n",
       "       'price', 'currency', 'price_aprox_local_currency',\n",
       "       'price_aprox_usd', 'surface_total_in_m2', 'surface_covered_in_m2',\n",
       "       'price_usd_per_m2', 'price_per_m2', 'floor', 'rooms', 'expenses',\n",
       "       'properati_url', 'description', 'title', 'image_thumbnail'],\n",
       "      dtype=object)"
      ]
     },
     "execution_count": 5,
     "metadata": {},
     "output_type": "execute_result"
    }
   ],
   "source": [
    "df.columns.values"
   ]
  },
  {
   "cell_type": "markdown",
   "metadata": {},
   "source": [
    "### Limpieza de datos"
   ]
  },
  {
   "cell_type": "code",
   "execution_count": 6,
   "metadata": {},
   "outputs": [
    {
     "data": {
      "text/html": [
       "<div>\n",
       "<style scoped>\n",
       "    .dataframe tbody tr th:only-of-type {\n",
       "        vertical-align: middle;\n",
       "    }\n",
       "\n",
       "    .dataframe tbody tr th {\n",
       "        vertical-align: top;\n",
       "    }\n",
       "\n",
       "    .dataframe thead th {\n",
       "        text-align: right;\n",
       "    }\n",
       "</style>\n",
       "<table border=\"1\" class=\"dataframe\">\n",
       "  <thead>\n",
       "    <tr style=\"text-align: right;\">\n",
       "      <th></th>\n",
       "      <th>property_type</th>\n",
       "      <th>place_name</th>\n",
       "      <th>price</th>\n",
       "      <th>surface_total_in_m2</th>\n",
       "      <th>surface_covered_in_m2</th>\n",
       "      <th>rooms</th>\n",
       "    </tr>\n",
       "  </thead>\n",
       "  <tbody>\n",
       "    <tr>\n",
       "      <th>0</th>\n",
       "      <td>house</td>\n",
       "      <td>San Antonio De Padua</td>\n",
       "      <td>120000.0</td>\n",
       "      <td>333.0</td>\n",
       "      <td>93.0</td>\n",
       "      <td>NaN</td>\n",
       "    </tr>\n",
       "    <tr>\n",
       "      <th>1</th>\n",
       "      <td>apartment</td>\n",
       "      <td>Villa Crespo</td>\n",
       "      <td>83000.0</td>\n",
       "      <td>40.0</td>\n",
       "      <td>40.0</td>\n",
       "      <td>2.0</td>\n",
       "    </tr>\n",
       "    <tr>\n",
       "      <th>2</th>\n",
       "      <td>apartment</td>\n",
       "      <td>San Bernardo</td>\n",
       "      <td>49000.0</td>\n",
       "      <td>47.0</td>\n",
       "      <td>42.0</td>\n",
       "      <td>3.0</td>\n",
       "    </tr>\n",
       "    <tr>\n",
       "      <th>3</th>\n",
       "      <td>house</td>\n",
       "      <td>Maschwitz</td>\n",
       "      <td>200000.0</td>\n",
       "      <td>250.0</td>\n",
       "      <td>200.0</td>\n",
       "      <td>4.0</td>\n",
       "    </tr>\n",
       "    <tr>\n",
       "      <th>4</th>\n",
       "      <td>house</td>\n",
       "      <td>San Antonio De Padua</td>\n",
       "      <td>NaN</td>\n",
       "      <td>220.0</td>\n",
       "      <td>220.0</td>\n",
       "      <td>NaN</td>\n",
       "    </tr>\n",
       "  </tbody>\n",
       "</table>\n",
       "</div>"
      ],
      "text/plain": [
       "  property_type            place_name     price  surface_total_in_m2  \\\n",
       "0         house  San Antonio De Padua  120000.0                333.0   \n",
       "1     apartment          Villa Crespo   83000.0                 40.0   \n",
       "2     apartment          San Bernardo   49000.0                 47.0   \n",
       "3         house             Maschwitz  200000.0                250.0   \n",
       "4         house  San Antonio De Padua       NaN                220.0   \n",
       "\n",
       "   surface_covered_in_m2  rooms  \n",
       "0                   93.0    NaN  \n",
       "1                   40.0    2.0  \n",
       "2                   42.0    3.0  \n",
       "3                  200.0    4.0  \n",
       "4                  220.0    NaN  "
      ]
     },
     "execution_count": 6,
     "metadata": {},
     "output_type": "execute_result"
    }
   ],
   "source": [
    "df = df.drop([\"created_on\", \"operation\", \"geonames_id\", \"lat-lon\", \"lat\", \"lon\", \"currency\", \n",
    "              \"price_aprox_local_currency\", \"price_aprox_usd\", \"price_per_m2\", \"properati_url\", \"description\",\n",
    "             \"title\", \"image_thumbnail\", \"place_with_parent_names\", \"expenses\", \"floor\",\"price_usd_per_m2\"], axis=\"columns\")\n",
    "df.head()"
   ]
  },
  {
   "cell_type": "code",
   "execution_count": 7,
   "metadata": {},
   "outputs": [
    {
     "name": "stdout",
     "output_type": "stream",
     "text": [
      "<class 'pandas.core.frame.DataFrame'>\n",
      "RangeIndex: 145748 entries, 0 to 145747\n",
      "Data columns (total 6 columns):\n",
      " #   Column                 Non-Null Count   Dtype  \n",
      "---  ------                 --------------   -----  \n",
      " 0   property_type          145748 non-null  object \n",
      " 1   place_name             145725 non-null  object \n",
      " 2   price                  123155 non-null  float64\n",
      " 3   surface_total_in_m2    93515 non-null   float64\n",
      " 4   surface_covered_in_m2  113961 non-null  float64\n",
      " 5   rooms                  80893 non-null   float64\n",
      "dtypes: float64(4), object(2)\n",
      "memory usage: 6.7+ MB\n"
     ]
    }
   ],
   "source": [
    "df.info()"
   ]
  },
  {
   "cell_type": "code",
   "execution_count": 8,
   "metadata": {},
   "outputs": [
    {
     "data": {
      "text/plain": [
       "property_type                0\n",
       "place_name                  23\n",
       "price                    22593\n",
       "surface_total_in_m2      52233\n",
       "surface_covered_in_m2    31787\n",
       "rooms                    64855\n",
       "dtype: int64"
      ]
     },
     "execution_count": 8,
     "metadata": {},
     "output_type": "execute_result"
    }
   ],
   "source": [
    "df.isnull().sum()"
   ]
  },
  {
   "cell_type": "code",
   "execution_count": 9,
   "metadata": {},
   "outputs": [
    {
     "data": {
      "text/plain": [
       "property_type            0\n",
       "place_name               0\n",
       "price                    0\n",
       "surface_total_in_m2      0\n",
       "surface_covered_in_m2    0\n",
       "rooms                    0\n",
       "dtype: int64"
      ]
     },
     "execution_count": 9,
     "metadata": {},
     "output_type": "execute_result"
    }
   ],
   "source": [
    "df = df.dropna(subset=[\"price\", \"place_name\", \"surface_total_in_m2\", \"rooms\", \"surface_covered_in_m2\"])\n",
    "df.isnull().sum()"
   ]
  },
  {
   "cell_type": "code",
   "execution_count": 10,
   "metadata": {},
   "outputs": [
    {
     "data": {
      "text/plain": [
       "(41816, 6)"
      ]
     },
     "execution_count": 10,
     "metadata": {},
     "output_type": "execute_result"
    }
   ],
   "source": [
    "df.shape"
   ]
  },
  {
   "cell_type": "code",
   "execution_count": 11,
   "metadata": {},
   "outputs": [
    {
     "data": {
      "text/html": [
       "<div>\n",
       "<style scoped>\n",
       "    .dataframe tbody tr th:only-of-type {\n",
       "        vertical-align: middle;\n",
       "    }\n",
       "\n",
       "    .dataframe tbody tr th {\n",
       "        vertical-align: top;\n",
       "    }\n",
       "\n",
       "    .dataframe thead th {\n",
       "        text-align: right;\n",
       "    }\n",
       "</style>\n",
       "<table border=\"1\" class=\"dataframe\">\n",
       "  <thead>\n",
       "    <tr style=\"text-align: right;\">\n",
       "      <th></th>\n",
       "      <th>property_type</th>\n",
       "      <th>place_name</th>\n",
       "      <th>price</th>\n",
       "      <th>surface_total_in_m2</th>\n",
       "      <th>surface_covered_in_m2</th>\n",
       "      <th>rooms</th>\n",
       "    </tr>\n",
       "  </thead>\n",
       "  <tbody>\n",
       "    <tr>\n",
       "      <th>1</th>\n",
       "      <td>apartment</td>\n",
       "      <td>Villa Crespo</td>\n",
       "      <td>83000.0</td>\n",
       "      <td>40.0</td>\n",
       "      <td>40.0</td>\n",
       "      <td>2.0</td>\n",
       "    </tr>\n",
       "    <tr>\n",
       "      <th>2</th>\n",
       "      <td>apartment</td>\n",
       "      <td>San Bernardo</td>\n",
       "      <td>49000.0</td>\n",
       "      <td>47.0</td>\n",
       "      <td>42.0</td>\n",
       "      <td>3.0</td>\n",
       "    </tr>\n",
       "    <tr>\n",
       "      <th>3</th>\n",
       "      <td>house</td>\n",
       "      <td>Maschwitz</td>\n",
       "      <td>200000.0</td>\n",
       "      <td>250.0</td>\n",
       "      <td>200.0</td>\n",
       "      <td>4.0</td>\n",
       "    </tr>\n",
       "    <tr>\n",
       "      <th>9</th>\n",
       "      <td>house</td>\n",
       "      <td>Mataderos</td>\n",
       "      <td>170000.0</td>\n",
       "      <td>300.0</td>\n",
       "      <td>103.0</td>\n",
       "      <td>5.0</td>\n",
       "    </tr>\n",
       "    <tr>\n",
       "      <th>22</th>\n",
       "      <td>apartment</td>\n",
       "      <td>Haedo</td>\n",
       "      <td>100000.0</td>\n",
       "      <td>43.0</td>\n",
       "      <td>36.0</td>\n",
       "      <td>2.0</td>\n",
       "    </tr>\n",
       "  </tbody>\n",
       "</table>\n",
       "</div>"
      ],
      "text/plain": [
       "   property_type    place_name     price  surface_total_in_m2  \\\n",
       "1      apartment  Villa Crespo   83000.0                 40.0   \n",
       "2      apartment  San Bernardo   49000.0                 47.0   \n",
       "3          house     Maschwitz  200000.0                250.0   \n",
       "9          house     Mataderos  170000.0                300.0   \n",
       "22     apartment         Haedo  100000.0                 43.0   \n",
       "\n",
       "    surface_covered_in_m2  rooms  \n",
       "1                    40.0    2.0  \n",
       "2                    42.0    3.0  \n",
       "3                   200.0    4.0  \n",
       "9                   103.0    5.0  \n",
       "22                   36.0    2.0  "
      ]
     },
     "execution_count": 11,
     "metadata": {},
     "output_type": "execute_result"
    }
   ],
   "source": [
    "df.head(5)"
   ]
  },
  {
   "cell_type": "code",
   "execution_count": 12,
   "metadata": {},
   "outputs": [
    {
     "data": {
      "text/plain": [
       "array(['apartment', 'house', 'PH', 'store'], dtype=object)"
      ]
     },
     "execution_count": 12,
     "metadata": {},
     "output_type": "execute_result"
    }
   ],
   "source": [
    "df[\"property_type\"].unique()"
   ]
  },
  {
   "cell_type": "code",
   "execution_count": 13,
   "metadata": {},
   "outputs": [
    {
     "data": {
      "text/plain": [
       "621"
      ]
     },
     "execution_count": 13,
     "metadata": {},
     "output_type": "execute_result"
    }
   ],
   "source": [
    "len(df[\"place_name\"].unique())"
   ]
  },
  {
   "cell_type": "code",
   "execution_count": 14,
   "metadata": {},
   "outputs": [
    {
     "data": {
      "text/plain": [
       "array([  40.,   47.,  250., ...,  613., 1489.,  747.])"
      ]
     },
     "execution_count": 14,
     "metadata": {},
     "output_type": "execute_result"
    }
   ],
   "source": [
    "df[\"surface_total_in_m2\"].unique()"
   ]
  },
  {
   "cell_type": "code",
   "execution_count": 15,
   "metadata": {},
   "outputs": [
    {
     "data": {
      "text/plain": [
       "0"
      ]
     },
     "execution_count": 15,
     "metadata": {},
     "output_type": "execute_result"
    }
   ],
   "source": [
    "#Borramos las propiedades con surface_total_in_m2 igual a 0\n",
    "df = df[~(df[\"surface_total_in_m2\"] == 0)]\n",
    "(df[\"surface_total_in_m2\"] == 0).sum()"
   ]
  },
  {
   "cell_type": "code",
   "execution_count": 16,
   "metadata": {},
   "outputs": [
    {
     "data": {
      "text/plain": [
       "0"
      ]
     },
     "execution_count": 16,
     "metadata": {},
     "output_type": "execute_result"
    }
   ],
   "source": [
    "#Borramos las propiedades con price igual a 0\n",
    "df = df[~(df[\"price\"] == 0)]\n",
    "(df[\"price\"] == 0).sum()"
   ]
  },
  {
   "cell_type": "code",
   "execution_count": 17,
   "metadata": {},
   "outputs": [
    {
     "data": {
      "text/html": [
       "<div>\n",
       "<style scoped>\n",
       "    .dataframe tbody tr th:only-of-type {\n",
       "        vertical-align: middle;\n",
       "    }\n",
       "\n",
       "    .dataframe tbody tr th {\n",
       "        vertical-align: top;\n",
       "    }\n",
       "\n",
       "    .dataframe thead th {\n",
       "        text-align: right;\n",
       "    }\n",
       "</style>\n",
       "<table border=\"1\" class=\"dataframe\">\n",
       "  <thead>\n",
       "    <tr style=\"text-align: right;\">\n",
       "      <th></th>\n",
       "      <th>property_type</th>\n",
       "      <th>place_name</th>\n",
       "      <th>price</th>\n",
       "      <th>surface_total_in_m2</th>\n",
       "      <th>surface_covered_in_m2</th>\n",
       "      <th>rooms</th>\n",
       "      <th>price_per_m2</th>\n",
       "    </tr>\n",
       "  </thead>\n",
       "  <tbody>\n",
       "    <tr>\n",
       "      <th>1</th>\n",
       "      <td>apartment</td>\n",
       "      <td>Villa Crespo</td>\n",
       "      <td>83000.0</td>\n",
       "      <td>40.0</td>\n",
       "      <td>40.0</td>\n",
       "      <td>2.0</td>\n",
       "      <td>2075.000000</td>\n",
       "    </tr>\n",
       "    <tr>\n",
       "      <th>2</th>\n",
       "      <td>apartment</td>\n",
       "      <td>San Bernardo</td>\n",
       "      <td>49000.0</td>\n",
       "      <td>47.0</td>\n",
       "      <td>42.0</td>\n",
       "      <td>3.0</td>\n",
       "      <td>1042.553191</td>\n",
       "    </tr>\n",
       "    <tr>\n",
       "      <th>3</th>\n",
       "      <td>house</td>\n",
       "      <td>Maschwitz</td>\n",
       "      <td>200000.0</td>\n",
       "      <td>250.0</td>\n",
       "      <td>200.0</td>\n",
       "      <td>4.0</td>\n",
       "      <td>800.000000</td>\n",
       "    </tr>\n",
       "    <tr>\n",
       "      <th>9</th>\n",
       "      <td>house</td>\n",
       "      <td>Mataderos</td>\n",
       "      <td>170000.0</td>\n",
       "      <td>300.0</td>\n",
       "      <td>103.0</td>\n",
       "      <td>5.0</td>\n",
       "      <td>566.666667</td>\n",
       "    </tr>\n",
       "    <tr>\n",
       "      <th>22</th>\n",
       "      <td>apartment</td>\n",
       "      <td>Haedo</td>\n",
       "      <td>100000.0</td>\n",
       "      <td>43.0</td>\n",
       "      <td>36.0</td>\n",
       "      <td>2.0</td>\n",
       "      <td>2325.581395</td>\n",
       "    </tr>\n",
       "  </tbody>\n",
       "</table>\n",
       "</div>"
      ],
      "text/plain": [
       "   property_type    place_name     price  surface_total_in_m2  \\\n",
       "1      apartment  Villa Crespo   83000.0                 40.0   \n",
       "2      apartment  San Bernardo   49000.0                 47.0   \n",
       "3          house     Maschwitz  200000.0                250.0   \n",
       "9          house     Mataderos  170000.0                300.0   \n",
       "22     apartment         Haedo  100000.0                 43.0   \n",
       "\n",
       "    surface_covered_in_m2  rooms  price_per_m2  \n",
       "1                    40.0    2.0   2075.000000  \n",
       "2                    42.0    3.0   1042.553191  \n",
       "3                   200.0    4.0    800.000000  \n",
       "9                   103.0    5.0    566.666667  \n",
       "22                   36.0    2.0   2325.581395  "
      ]
     },
     "execution_count": 17,
     "metadata": {},
     "output_type": "execute_result"
    }
   ],
   "source": [
    "#Creamos la columna price_per_m2\n",
    "df[\"price_per_m2\"] = df[\"price\"] / df[\"surface_total_in_m2\"]\n",
    "df.head()"
   ]
  },
  {
   "cell_type": "code",
   "execution_count": 18,
   "metadata": {},
   "outputs": [
    {
     "data": {
      "text/plain": [
       "(38065, 7)"
      ]
     },
     "execution_count": 18,
     "metadata": {},
     "output_type": "execute_result"
    }
   ],
   "source": [
    "df.shape"
   ]
  },
  {
   "cell_type": "code",
   "execution_count": 19,
   "metadata": {},
   "outputs": [
    {
     "data": {
      "text/plain": [
       "598"
      ]
     },
     "execution_count": 19,
     "metadata": {},
     "output_type": "execute_result"
    }
   ],
   "source": [
    "len(df[\"place_name\"].unique())"
   ]
  },
  {
   "cell_type": "markdown",
   "metadata": {},
   "source": [
    "## Deteccion de outliers"
   ]
  },
  {
   "cell_type": "code",
   "execution_count": 20,
   "metadata": {},
   "outputs": [],
   "source": [
    "#Sacamos los espacios un blanco al principio y al final de property_type\n",
    "df[\"place_name\"] = df[\"place_name\"].apply(lambda x: x.strip())\n",
    "location_stats = df.groupby(\"place_name\")[\"place_name\"].agg(\"count\").sort_values(ascending=False)"
   ]
  },
  {
   "cell_type": "code",
   "execution_count": 21,
   "metadata": {},
   "outputs": [
    {
     "data": {
      "text/plain": [
       "place_name\n",
       "Mar del Plata     4286\n",
       "Punta del Este    2311\n",
       "Ramos Mejía       1198\n",
       "Palermo           1128\n",
       "Belgrano          1024\n",
       "Nordelta          1009\n",
       "Montevideo         839\n",
       "Córdoba            819\n",
       "Name: place_name, dtype: int64"
      ]
     },
     "execution_count": 21,
     "metadata": {},
     "output_type": "execute_result"
    }
   ],
   "source": [
    "location_stats.head(8)"
   ]
  },
  {
   "cell_type": "code",
   "execution_count": 22,
   "metadata": {},
   "outputs": [
    {
     "data": {
      "text/plain": [
       "375"
      ]
     },
     "execution_count": 22,
     "metadata": {},
     "output_type": "execute_result"
    }
   ],
   "source": [
    "#Vemos cuantos lugares tienen menos de 10 propiedades\n",
    "len(location_stats[location_stats <= 10])"
   ]
  },
  {
   "cell_type": "code",
   "execution_count": 23,
   "metadata": {},
   "outputs": [
    {
     "name": "stdout",
     "output_type": "stream",
     "text": [
      "place_name\n",
      "Haras María Elena            10\n",
      "Country Maschwitz Privado    10\n",
      "Loma Verde                   10\n",
      "Plaza Mitre                  10\n",
      "Mar de las Pampas            10\n",
      "                             ..\n",
      "Campo Chico Country Club      1\n",
      "Las Flores                    1\n",
      "Palm Beach                    1\n",
      "Cafayate                      1\n",
      "Zárate                        1\n",
      "Name: place_name, Length: 375, dtype: int64\n"
     ]
    }
   ],
   "source": [
    "#Creamos un algortitmo para eliminar los lugares con menos de 10 propiedades, ya que no vamos a poder sacar ninguna conclucion con tan pocas propiedades\n",
    "location_stats_less_than_10 = location_stats[location_stats <= 10]\n",
    "print (location_stats_less_than_10)"
   ]
  },
  {
   "cell_type": "code",
   "execution_count": 24,
   "metadata": {},
   "outputs": [
    {
     "data": {
      "text/plain": [
       "224"
      ]
     },
     "execution_count": 24,
     "metadata": {},
     "output_type": "execute_result"
    }
   ],
   "source": [
    "#Le llamamos otro a todos los lugares que tengan menos de 10 propiedades\n",
    "df[\"place_name\"] = df[\"place_name\"].apply(lambda x: \"otro\" if x in location_stats_less_than_10 else x)\n",
    "len(df[\"place_name\"].unique())"
   ]
  },
  {
   "cell_type": "code",
   "execution_count": 25,
   "metadata": {},
   "outputs": [
    {
     "data": {
      "text/plain": [
       "254"
      ]
     },
     "execution_count": 25,
     "metadata": {},
     "output_type": "execute_result"
    },
    {
     "data": {
      "image/png": "[encoded data removed]",
      "text/plain": [
       "<Figure size 432x288 with 1 Axes>"
      ]
     },
     "metadata": {
      "needs_background": "light"
     },
     "output_type": "display_data"
    }
   ],
   "source": [
    "#Vamos a elimar las casas que superen los 500m2, ya que son outliers\n",
    "#hacemos esto ya que las que estan por debajo de los 200m2 son el 85% de las casas\n",
    "plt.scatter(df[\"surface_total_in_m2\"], df[\"rooms\"])\n",
    "len(df[(df[\"surface_total_in_m2\"] > 2000)])"
   ]
  },
  {
   "cell_type": "code",
   "execution_count": 26,
   "metadata": {},
   "outputs": [
    {
     "data": {
      "text/plain": [
       "(27813, 7)"
      ]
     },
     "execution_count": 26,
     "metadata": {},
     "output_type": "execute_result"
    }
   ],
   "source": [
    "df = (df[(df[\"surface_total_in_m2\"] < 200)])\n",
    "df.shape"
   ]
  },
  {
   "cell_type": "code",
   "execution_count": 27,
   "metadata": {},
   "outputs": [
    {
     "data": {
      "text/plain": [
       "<matplotlib.collections.PathCollection at 0x120c42610>"
      ]
     },
     "execution_count": 27,
     "metadata": {},
     "output_type": "execute_result"
    },
    {
     "data": {
      "image/png": "[encoded data removed]",
      "text/plain": [
       "<Figure size 432x288 with 1 Axes>"
      ]
     },
     "metadata": {
      "needs_background": "light"
     },
     "output_type": "display_data"
    }
   ],
   "source": [
    "#Identificamos los outliers de rooms\n",
    "plt.scatter(df[\"rooms\"], df[\"surface_total_in_m2\"])"
   ]
  },
  {
   "cell_type": "code",
   "execution_count": 28,
   "metadata": {},
   "outputs": [
    {
     "data": {
      "text/plain": [
       "(26411, 7)"
      ]
     },
     "execution_count": 28,
     "metadata": {},
     "output_type": "execute_result"
    }
   ],
   "source": [
    "#Eliminamos las propiedades con mas de 4 habitaciones ya que solo representan el 4%\n",
    "df = (df[~(df[\"rooms\"] > 4)])\n",
    "df.shape"
   ]
  },
  {
   "cell_type": "code",
   "execution_count": 29,
   "metadata": {},
   "outputs": [
    {
     "data": {
      "text/plain": [
       "<matplotlib.collections.PathCollection at 0x1218006a0>"
      ]
     },
     "execution_count": 29,
     "metadata": {},
     "output_type": "execute_result"
    },
    {
     "data": {
      "image/png": "[encoded data removed]",
      "text/plain": [
       "<Figure size 432x288 with 1 Axes>"
      ]
     },
     "metadata": {
      "needs_background": "light"
     },
     "output_type": "display_data"
    }
   ],
   "source": [
    "#Vamos a identificar outliers en el precio\n",
    "plt.scatter(df[\"price\"], df[\"surface_total_in_m2\"])"
   ]
  },
  {
   "cell_type": "code",
   "execution_count": 30,
   "metadata": {},
   "outputs": [],
   "source": [
    "#Eliminamos las casas que cuestan mas de 500000 ya que solo representan el 5.6%\n",
    "df = (df[~(df[\"price\"] > 500000)])"
   ]
  },
  {
   "cell_type": "code",
   "execution_count": 31,
   "metadata": {},
   "outputs": [
    {
     "data": {
      "text/plain": [
       "2827"
      ]
     },
     "execution_count": 31,
     "metadata": {},
     "output_type": "execute_result"
    }
   ],
   "source": [
    "#Lo tipico es que por habitacion alla 20m2, osea una casa de 40m2 lo mas normal es que tenga 2 habitaciones\n",
    "#Con esto ya podemos detectar algunos outliers\n",
    "len(df[df[\"surface_total_in_m2\"] / df[\"rooms\"] < 20])"
   ]
  },
  {
   "cell_type": "code",
   "execution_count": 32,
   "metadata": {},
   "outputs": [
    {
     "data": {
      "text/plain": [
       "(21274, 7)"
      ]
     },
     "execution_count": 32,
     "metadata": {},
     "output_type": "execute_result"
    }
   ],
   "source": [
    "#Eliminamos esos 3240 outliers\n",
    "df = df[~(df[\"surface_total_in_m2\"] / df[\"rooms\"] < 20)]\n",
    "df.shape"
   ]
  },
  {
   "cell_type": "code",
   "execution_count": 33,
   "metadata": {},
   "outputs": [
    {
     "data": {
      "text/plain": [
       "count    21274.000000\n",
       "mean      2006.735970\n",
       "std        878.551410\n",
       "min         26.315789\n",
       "25%       1428.571429\n",
       "50%       1901.250000\n",
       "75%       2451.612903\n",
       "max      16222.222222\n",
       "Name: price_per_m2, dtype: float64"
      ]
     },
     "execution_count": 33,
     "metadata": {},
     "output_type": "execute_result"
    }
   ],
   "source": [
    "#Lo que vamos a hacer ahora es elimnar todos los price_per_sqft que esten por debajo y por encima del promedio +- std\n",
    "df[\"price_per_m2\"].describe()"
   ]
  },
  {
   "cell_type": "code",
   "execution_count": 34,
   "metadata": {},
   "outputs": [
    {
     "data": {
      "text/html": [
       "<div>\n",
       "<style scoped>\n",
       "    .dataframe tbody tr th:only-of-type {\n",
       "        vertical-align: middle;\n",
       "    }\n",
       "\n",
       "    .dataframe tbody tr th {\n",
       "        vertical-align: top;\n",
       "    }\n",
       "\n",
       "    .dataframe thead th {\n",
       "        text-align: right;\n",
       "    }\n",
       "</style>\n",
       "<table border=\"1\" class=\"dataframe\">\n",
       "  <thead>\n",
       "    <tr style=\"text-align: right;\">\n",
       "      <th></th>\n",
       "      <th>price</th>\n",
       "      <th>surface_total_in_m2</th>\n",
       "      <th>surface_covered_in_m2</th>\n",
       "      <th>rooms</th>\n",
       "      <th>price_per_m2</th>\n",
       "    </tr>\n",
       "    <tr>\n",
       "      <th>place_name</th>\n",
       "      <th></th>\n",
       "      <th></th>\n",
       "      <th></th>\n",
       "      <th></th>\n",
       "      <th></th>\n",
       "    </tr>\n",
       "  </thead>\n",
       "  <tbody>\n",
       "    <tr>\n",
       "      <th>Abasto</th>\n",
       "      <td>114530.000000</td>\n",
       "      <td>60.500000</td>\n",
       "      <td>53.800000</td>\n",
       "      <td>2.166667</td>\n",
       "      <td>1933.471024</td>\n",
       "    </tr>\n",
       "    <tr>\n",
       "      <th>Acacias Blancas</th>\n",
       "      <td>173800.000000</td>\n",
       "      <td>133.200000</td>\n",
       "      <td>129.000000</td>\n",
       "      <td>4.000000</td>\n",
       "      <td>1357.587666</td>\n",
       "    </tr>\n",
       "    <tr>\n",
       "      <th>Acassuso</th>\n",
       "      <td>240071.428571</td>\n",
       "      <td>104.357143</td>\n",
       "      <td>100.857143</td>\n",
       "      <td>2.928571</td>\n",
       "      <td>2522.184199</td>\n",
       "    </tr>\n",
       "    <tr>\n",
       "      <th>Adrogué</th>\n",
       "      <td>185434.314815</td>\n",
       "      <td>96.296296</td>\n",
       "      <td>82.537037</td>\n",
       "      <td>2.796296</td>\n",
       "      <td>2097.116903</td>\n",
       "    </tr>\n",
       "    <tr>\n",
       "      <th>Agronomía</th>\n",
       "      <td>126629.629630</td>\n",
       "      <td>57.703704</td>\n",
       "      <td>48.777778</td>\n",
       "      <td>2.259259</td>\n",
       "      <td>2267.458172</td>\n",
       "    </tr>\n",
       "    <tr>\n",
       "      <th>...</th>\n",
       "      <td>...</td>\n",
       "      <td>...</td>\n",
       "      <td>...</td>\n",
       "      <td>...</td>\n",
       "      <td>...</td>\n",
       "    </tr>\n",
       "    <tr>\n",
       "      <th>Villa Sarmiento</th>\n",
       "      <td>110772.727273</td>\n",
       "      <td>78.742424</td>\n",
       "      <td>70.136364</td>\n",
       "      <td>2.469697</td>\n",
       "      <td>1527.042364</td>\n",
       "    </tr>\n",
       "    <tr>\n",
       "      <th>Villa Urquiza</th>\n",
       "      <td>137441.917293</td>\n",
       "      <td>63.185464</td>\n",
       "      <td>52.879699</td>\n",
       "      <td>2.090226</td>\n",
       "      <td>2252.260884</td>\n",
       "    </tr>\n",
       "    <tr>\n",
       "      <th>Villa del Parque</th>\n",
       "      <td>126537.855072</td>\n",
       "      <td>66.623188</td>\n",
       "      <td>56.333333</td>\n",
       "      <td>2.195652</td>\n",
       "      <td>1985.716025</td>\n",
       "    </tr>\n",
       "    <tr>\n",
       "      <th>Villanueva</th>\n",
       "      <td>262200.000000</td>\n",
       "      <td>169.907692</td>\n",
       "      <td>157.984615</td>\n",
       "      <td>3.923077</td>\n",
       "      <td>1553.794466</td>\n",
       "    </tr>\n",
       "    <tr>\n",
       "      <th>otro</th>\n",
       "      <td>136218.497110</td>\n",
       "      <td>102.806358</td>\n",
       "      <td>83.190751</td>\n",
       "      <td>2.907514</td>\n",
       "      <td>1448.120386</td>\n",
       "    </tr>\n",
       "  </tbody>\n",
       "</table>\n",
       "<p>218 rows × 5 columns</p>\n",
       "</div>"
      ],
      "text/plain": [
       "                          price  surface_total_in_m2  surface_covered_in_m2  \\\n",
       "place_name                                                                    \n",
       "Abasto            114530.000000            60.500000              53.800000   \n",
       "Acacias Blancas   173800.000000           133.200000             129.000000   \n",
       "Acassuso          240071.428571           104.357143             100.857143   \n",
       "Adrogué           185434.314815            96.296296              82.537037   \n",
       "Agronomía         126629.629630            57.703704              48.777778   \n",
       "...                         ...                  ...                    ...   \n",
       "Villa Sarmiento   110772.727273            78.742424              70.136364   \n",
       "Villa Urquiza     137441.917293            63.185464              52.879699   \n",
       "Villa del Parque  126537.855072            66.623188              56.333333   \n",
       "Villanueva        262200.000000           169.907692             157.984615   \n",
       "otro              136218.497110           102.806358              83.190751   \n",
       "\n",
       "                     rooms  price_per_m2  \n",
       "place_name                                \n",
       "Abasto            2.166667   1933.471024  \n",
       "Acacias Blancas   4.000000   1357.587666  \n",
       "Acassuso          2.928571   2522.184199  \n",
       "Adrogué           2.796296   2097.116903  \n",
       "Agronomía         2.259259   2267.458172  \n",
       "...                    ...           ...  \n",
       "Villa Sarmiento   2.469697   1527.042364  \n",
       "Villa Urquiza     2.090226   2252.260884  \n",
       "Villa del Parque  2.195652   1985.716025  \n",
       "Villanueva        3.923077   1553.794466  \n",
       "otro              2.907514   1448.120386  \n",
       "\n",
       "[218 rows x 5 columns]"
      ]
     },
     "execution_count": 34,
     "metadata": {},
     "output_type": "execute_result"
    }
   ],
   "source": [
    "df.groupby(\"place_name\").mean()"
   ]
  },
  {
   "cell_type": "code",
   "execution_count": 35,
   "metadata": {},
   "outputs": [
    {
     "data": {
      "text/plain": [
       "(21274, 7)"
      ]
     },
     "execution_count": 35,
     "metadata": {},
     "output_type": "execute_result"
    }
   ],
   "source": [
    "df.shape"
   ]
  },
  {
   "cell_type": "code",
   "execution_count": 36,
   "metadata": {},
   "outputs": [],
   "source": [
    "#Funcion para elimnar las filas que superen el el mean+-std de price_per_m2\n",
    "def remove_pps_outliers(df):\n",
    "    df_out = pd.DataFrame()\n",
    "    #Key es cada uno de los location y subdf son todas las columnas pero saparadas por location\n",
    "    for key, subdf in df.groupby(\"place_name\"):\n",
    "        #Guardo en dos variables el mean y la std\n",
    "        m = np.mean(subdf[\"price_per_m2\"])\n",
    "        st = np.std(subdf[\"price_per_m2\"])\n",
    "        #Me quedo con lo que este adentro del mean+-std\n",
    "        reduced_df = subdf[(subdf[\"price_per_m2\"] > (m-st)) & (subdf[\"price_per_m2\"] < (m+st))]\n",
    "        df_out = pd.concat([df_out, reduced_df], ignore_index=True)\n",
    "    return df_out"
   ]
  },
  {
   "cell_type": "code",
   "execution_count": 37,
   "metadata": {},
   "outputs": [
    {
     "name": "stdout",
     "output_type": "stream",
     "text": [
      "(15173, 7)\n"
     ]
    }
   ],
   "source": [
    "df = remove_pps_outliers(df)\n",
    "print (df.shape)"
   ]
  },
  {
   "cell_type": "code",
   "execution_count": 38,
   "metadata": {},
   "outputs": [],
   "source": [
    "#Graficamos para ver los precios por location y numeros de habitaciones ya que nos podemos llegar a encontrar casas con menos\n",
    "#habitaciones y menos metros cuadrados que sean mas caras que una con mas habitaciones y mas metros cuadrados en la misma location\n",
    "def plot_scatter_chart(df, location):\n",
    "    bhk2 = df[(df[\"place_name\"] == location) & (df[\"rooms\"] == 2)]\n",
    "    bhk3 = df[(df[\"place_name\"] == location) & (df[\"rooms\"] == 3)]\n",
    "    plt.figure(figsize=(15,10))\n",
    "    plt.scatter(bhk2[\"surface_total_in_m2\"], bhk2[\"price\"], color=\"blue\", \n",
    "               label=\"2 BHK\")\n",
    "    plt.scatter(bhk3[\"surface_total_in_m2\"], bhk3[\"price\"], marker=\"+\",\n",
    "               color=\"green\", label=\"3 BHK\")\n",
    "    #plt.xticks(range(0,2001,200))\n",
    "    plt.xlabel(\"Total m^2\")\n",
    "    plt.ylabel(\"Price (USD)\")\n",
    "    plt.title(location)\n",
    "    plt.legend()\n",
    "    plt.show()"
   ]
  },
  {
   "cell_type": "code",
   "execution_count": 39,
   "metadata": {},
   "outputs": [
    {
     "data": {
      "image/png": "[encoded data removed]",
      "text/plain": [
       "<Figure size 1080x720 with 1 Axes>"
      ]
     },
     "metadata": {
      "needs_background": "light"
     },
     "output_type": "display_data"
    },
    {
     "data": {
      "image/png": "[encoded data removed]",
      "text/plain": [
       "<Figure size 1080x720 with 1 Axes>"
      ]
     },
     "metadata": {
      "needs_background": "light"
     },
     "output_type": "display_data"
    },
    {
     "data": {
      "image/png": "[encoded data removed]",
      "text/plain": [
       "<Figure size 1080x720 with 1 Axes>"
      ]
     },
     "metadata": {
      "needs_background": "light"
     },
     "output_type": "display_data"
    },
    {
     "data": {
      "image/png": "[encoded data removed]",
      "text/plain": [
       "<Figure size 1080x720 with 1 Axes>"
      ]
     },
     "metadata": {
      "needs_background": "light"
     },
     "output_type": "display_data"
    }
   ],
   "source": [
    "plot_scatter_chart(df, \"Ramos Mejía\")\n",
    "plot_scatter_chart(df, \"Montevideo\")\n",
    "plot_scatter_chart(df, \"Nordelta\")\n",
    "plot_scatter_chart(df, \"Punta del Este\")"
   ]
  },
  {
   "cell_type": "code",
   "execution_count": 40,
   "metadata": {},
   "outputs": [],
   "source": [
    "def remove_bhk_outliers(df):\n",
    "    exclude_indices = np.array([])\n",
    "    #location = todas los lugares, location_df = todas las columnas agrupadas por lugares\n",
    "    for location, location_df in df.groupby('place_name'):\n",
    "        bhk_stats = {}   \n",
    "        #bhk_df = todas las columnas pero separadas por lugares y ademas separadas por rooms\n",
    "        for bhk, bhk_df in location_df.groupby('rooms'):\n",
    "            #Aca guardamos el promedio, std, cuantas de precio por m2, en bhk=numero de rooms por casa\n",
    "            #Ej bhk_stats[1](una habitacion) = mean(precio m2 en Belgrano(de una sola habitacion)), std(precio m2 en Belgrano(de una sola habitacion)), cuantas \n",
    "            bhk_stats[bhk] = {\n",
    "                'mean': np.mean(bhk_df[\"price_per_m2\"]),\n",
    "                'std': np.std(bhk_df[\"price_per_m2\"]),\n",
    "                'count': bhk_df.shape[0]\n",
    "            }\n",
    "        for bhk, bhk_df in location_df.groupby('rooms'):\n",
    "            stats = bhk_stats.get(bhk-1)\n",
    "            #Eliminamos si esta por debajo del promedio\n",
    "            if stats and stats['count']>5:\n",
    "                exclude_indices = np.append(exclude_indices, bhk_df[bhk_df[\"price_per_m2\"]<=(stats['mean']*0.7)].index.values)\n",
    "    return df.drop(exclude_indices,axis='index')"
   ]
  },
  {
   "cell_type": "code",
   "execution_count": 41,
   "metadata": {},
   "outputs": [
    {
     "data": {
      "text/plain": [
       "(14466, 7)"
      ]
     },
     "execution_count": 41,
     "metadata": {},
     "output_type": "execute_result"
    }
   ],
   "source": [
    "df = remove_bhk_outliers(df)\n",
    "df.shape"
   ]
  },
  {
   "cell_type": "code",
   "execution_count": 42,
   "metadata": {},
   "outputs": [
    {
     "data": {
      "image/png": "[encoded data removed]",
      "text/plain": [
       "<Figure size 1080x720 with 1 Axes>"
      ]
     },
     "metadata": {
      "needs_background": "light"
     },
     "output_type": "display_data"
    },
    {
     "data": {
      "image/png": "[encoded data removed]",
      "text/plain": [
       "<Figure size 1080x720 with 1 Axes>"
      ]
     },
     "metadata": {
      "needs_background": "light"
     },
     "output_type": "display_data"
    },
    {
     "data": {
      "image/png": "[encoded data removed]",
      "text/plain": [
       "<Figure size 1080x720 with 1 Axes>"
      ]
     },
     "metadata": {
      "needs_background": "light"
     },
     "output_type": "display_data"
    },
    {
     "data": {
      "image/png": "[encoded data removed]",
      "text/plain": [
       "<Figure size 1080x720 with 1 Axes>"
      ]
     },
     "metadata": {
      "needs_background": "light"
     },
     "output_type": "display_data"
    }
   ],
   "source": [
    "plot_scatter_chart(df, \"Ramos Mejía\")\n",
    "plot_scatter_chart(df, \"Montevideo\")\n",
    "plot_scatter_chart(df, \"Nordelta\")\n",
    "plot_scatter_chart(df, \"Punta del Este\")"
   ]
  },
  {
   "cell_type": "code",
   "execution_count": 44,
   "metadata": {},
   "outputs": [
    {
     "data": {
      "text/plain": [
       "237"
      ]
     },
     "execution_count": 44,
     "metadata": {},
     "output_type": "execute_result"
    }
   ],
   "source": [
    "#Vamos a eliminar las filas que tienen mas m2 cubiertos que m2 en terreno (ya que es imposible)\n",
    "len (df[(df[\"surface_covered_in_m2\"] > df[\"surface_total_in_m2\"])])"
   ]
  },
  {
   "cell_type": "code",
   "execution_count": 45,
   "metadata": {},
   "outputs": [],
   "source": [
    "df = df[~(df[\"surface_covered_in_m2\"] > df[\"surface_total_in_m2\"])]"
   ]
  },
  {
   "cell_type": "code",
   "execution_count": 46,
   "metadata": {},
   "outputs": [
    {
     "data": {
      "text/plain": [
       "(14229, 7)"
      ]
     },
     "execution_count": 46,
     "metadata": {},
     "output_type": "execute_result"
    }
   ],
   "source": [
    "df.shape"
   ]
  },
  {
   "cell_type": "code",
   "execution_count": 47,
   "metadata": {},
   "outputs": [
    {
     "data": {
      "text/html": [
       "<div>\n",
       "<style scoped>\n",
       "    .dataframe tbody tr th:only-of-type {\n",
       "        vertical-align: middle;\n",
       "    }\n",
       "\n",
       "    .dataframe tbody tr th {\n",
       "        vertical-align: top;\n",
       "    }\n",
       "\n",
       "    .dataframe thead th {\n",
       "        text-align: right;\n",
       "    }\n",
       "</style>\n",
       "<table border=\"1\" class=\"dataframe\">\n",
       "  <thead>\n",
       "    <tr style=\"text-align: right;\">\n",
       "      <th></th>\n",
       "      <th>property_type</th>\n",
       "      <th>place_name</th>\n",
       "      <th>price</th>\n",
       "      <th>surface_total_in_m2</th>\n",
       "      <th>surface_covered_in_m2</th>\n",
       "      <th>rooms</th>\n",
       "    </tr>\n",
       "  </thead>\n",
       "  <tbody>\n",
       "    <tr>\n",
       "      <th>0</th>\n",
       "      <td>apartment</td>\n",
       "      <td>Abasto</td>\n",
       "      <td>84000.0</td>\n",
       "      <td>43.0</td>\n",
       "      <td>40.0</td>\n",
       "      <td>1.0</td>\n",
       "    </tr>\n",
       "    <tr>\n",
       "      <th>1</th>\n",
       "      <td>apartment</td>\n",
       "      <td>Abasto</td>\n",
       "      <td>168000.0</td>\n",
       "      <td>87.0</td>\n",
       "      <td>87.0</td>\n",
       "      <td>4.0</td>\n",
       "    </tr>\n",
       "  </tbody>\n",
       "</table>\n",
       "</div>"
      ],
      "text/plain": [
       "  property_type place_name     price  surface_total_in_m2  \\\n",
       "0     apartment     Abasto   84000.0                 43.0   \n",
       "1     apartment     Abasto  168000.0                 87.0   \n",
       "\n",
       "   surface_covered_in_m2  rooms  \n",
       "0                   40.0    1.0  \n",
       "1                   87.0    4.0  "
      ]
     },
     "execution_count": 47,
     "metadata": {},
     "output_type": "execute_result"
    }
   ],
   "source": [
    "#Eliminamos la columna price_per_m2 ya que solamente la usamos para identificar outliers\n",
    "df = df.drop(\"price_per_m2\", axis=\"columns\")\n",
    "df.head(2)"
   ]
  },
  {
   "cell_type": "code",
   "execution_count": 48,
   "metadata": {},
   "outputs": [
    {
     "data": {
      "text/html": [
       "<div>\n",
       "<style scoped>\n",
       "    .dataframe tbody tr th:only-of-type {\n",
       "        vertical-align: middle;\n",
       "    }\n",
       "\n",
       "    .dataframe tbody tr th {\n",
       "        vertical-align: top;\n",
       "    }\n",
       "\n",
       "    .dataframe thead th {\n",
       "        text-align: right;\n",
       "    }\n",
       "</style>\n",
       "<table border=\"1\" class=\"dataframe\">\n",
       "  <thead>\n",
       "    <tr style=\"text-align: right;\">\n",
       "      <th></th>\n",
       "      <th>place_name_Abasto</th>\n",
       "      <th>place_name_Acacias Blancas</th>\n",
       "      <th>place_name_Acassuso</th>\n",
       "      <th>place_name_Adrogué</th>\n",
       "      <th>place_name_Agronomía</th>\n",
       "      <th>place_name_Almagro</th>\n",
       "      <th>place_name_Altamira</th>\n",
       "      <th>place_name_Avellaneda</th>\n",
       "      <th>place_name_Bahía Blanca</th>\n",
       "      <th>place_name_Balvanera</th>\n",
       "      <th>...</th>\n",
       "      <th>place_name_Villa Santa Rita</th>\n",
       "      <th>place_name_Villa Sarmiento</th>\n",
       "      <th>place_name_Villa Urquiza</th>\n",
       "      <th>place_name_Villa del Parque</th>\n",
       "      <th>place_name_Villanueva</th>\n",
       "      <th>place_name_otro</th>\n",
       "      <th>property_type_PH</th>\n",
       "      <th>property_type_apartment</th>\n",
       "      <th>property_type_house</th>\n",
       "      <th>property_type_store</th>\n",
       "    </tr>\n",
       "  </thead>\n",
       "  <tbody>\n",
       "    <tr>\n",
       "      <th>0</th>\n",
       "      <td>1</td>\n",
       "      <td>0</td>\n",
       "      <td>0</td>\n",
       "      <td>0</td>\n",
       "      <td>0</td>\n",
       "      <td>0</td>\n",
       "      <td>0</td>\n",
       "      <td>0</td>\n",
       "      <td>0</td>\n",
       "      <td>0</td>\n",
       "      <td>...</td>\n",
       "      <td>0</td>\n",
       "      <td>0</td>\n",
       "      <td>0</td>\n",
       "      <td>0</td>\n",
       "      <td>0</td>\n",
       "      <td>0</td>\n",
       "      <td>0</td>\n",
       "      <td>1</td>\n",
       "      <td>0</td>\n",
       "      <td>0</td>\n",
       "    </tr>\n",
       "    <tr>\n",
       "      <th>1</th>\n",
       "      <td>1</td>\n",
       "      <td>0</td>\n",
       "      <td>0</td>\n",
       "      <td>0</td>\n",
       "      <td>0</td>\n",
       "      <td>0</td>\n",
       "      <td>0</td>\n",
       "      <td>0</td>\n",
       "      <td>0</td>\n",
       "      <td>0</td>\n",
       "      <td>...</td>\n",
       "      <td>0</td>\n",
       "      <td>0</td>\n",
       "      <td>0</td>\n",
       "      <td>0</td>\n",
       "      <td>0</td>\n",
       "      <td>0</td>\n",
       "      <td>0</td>\n",
       "      <td>1</td>\n",
       "      <td>0</td>\n",
       "      <td>0</td>\n",
       "    </tr>\n",
       "  </tbody>\n",
       "</table>\n",
       "<p>2 rows × 208 columns</p>\n",
       "</div>"
      ],
      "text/plain": [
       "   place_name_Abasto  place_name_Acacias Blancas  place_name_Acassuso  \\\n",
       "0                  1                           0                    0   \n",
       "1                  1                           0                    0   \n",
       "\n",
       "   place_name_Adrogué  place_name_Agronomía  place_name_Almagro  \\\n",
       "0                   0                     0                   0   \n",
       "1                   0                     0                   0   \n",
       "\n",
       "   place_name_Altamira  place_name_Avellaneda  place_name_Bahía Blanca  \\\n",
       "0                    0                      0                        0   \n",
       "1                    0                      0                        0   \n",
       "\n",
       "   place_name_Balvanera  ...  place_name_Villa Santa Rita  \\\n",
       "0                     0  ...                            0   \n",
       "1                     0  ...                            0   \n",
       "\n",
       "   place_name_Villa Sarmiento  place_name_Villa Urquiza  \\\n",
       "0                           0                         0   \n",
       "1                           0                         0   \n",
       "\n",
       "   place_name_Villa del Parque  place_name_Villanueva  place_name_otro  \\\n",
       "0                            0                      0                0   \n",
       "1                            0                      0                0   \n",
       "\n",
       "   property_type_PH  property_type_apartment  property_type_house  \\\n",
       "0                 0                        1                    0   \n",
       "1                 0                        1                    0   \n",
       "\n",
       "   property_type_store  \n",
       "0                    0  \n",
       "1                    0  \n",
       "\n",
       "[2 rows x 208 columns]"
      ]
     },
     "execution_count": 48,
     "metadata": {},
     "output_type": "execute_result"
    }
   ],
   "source": [
    "#Usamos variables dummies para la location y para property_type\n",
    "dummies = pd.get_dummies(df[[\"place_name\",\"property_type\"]])\n",
    "dummies.head(2)"
   ]
  },
  {
   "cell_type": "code",
   "execution_count": 49,
   "metadata": {},
   "outputs": [
    {
     "data": {
      "text/html": [
       "<div>\n",
       "<style scoped>\n",
       "    .dataframe tbody tr th:only-of-type {\n",
       "        vertical-align: middle;\n",
       "    }\n",
       "\n",
       "    .dataframe tbody tr th {\n",
       "        vertical-align: top;\n",
       "    }\n",
       "\n",
       "    .dataframe thead th {\n",
       "        text-align: right;\n",
       "    }\n",
       "</style>\n",
       "<table border=\"1\" class=\"dataframe\">\n",
       "  <thead>\n",
       "    <tr style=\"text-align: right;\">\n",
       "      <th></th>\n",
       "      <th>property_type</th>\n",
       "      <th>place_name</th>\n",
       "      <th>price</th>\n",
       "      <th>surface_total_in_m2</th>\n",
       "      <th>surface_covered_in_m2</th>\n",
       "      <th>rooms</th>\n",
       "      <th>place_name_Abasto</th>\n",
       "      <th>place_name_Acacias Blancas</th>\n",
       "      <th>place_name_Acassuso</th>\n",
       "      <th>place_name_Adrogué</th>\n",
       "      <th>...</th>\n",
       "      <th>place_name_Villa Santa Rita</th>\n",
       "      <th>place_name_Villa Sarmiento</th>\n",
       "      <th>place_name_Villa Urquiza</th>\n",
       "      <th>place_name_Villa del Parque</th>\n",
       "      <th>place_name_Villanueva</th>\n",
       "      <th>place_name_otro</th>\n",
       "      <th>property_type_PH</th>\n",
       "      <th>property_type_apartment</th>\n",
       "      <th>property_type_house</th>\n",
       "      <th>property_type_store</th>\n",
       "    </tr>\n",
       "  </thead>\n",
       "  <tbody>\n",
       "    <tr>\n",
       "      <th>0</th>\n",
       "      <td>apartment</td>\n",
       "      <td>Abasto</td>\n",
       "      <td>84000.0</td>\n",
       "      <td>43.0</td>\n",
       "      <td>40.0</td>\n",
       "      <td>1.0</td>\n",
       "      <td>1</td>\n",
       "      <td>0</td>\n",
       "      <td>0</td>\n",
       "      <td>0</td>\n",
       "      <td>...</td>\n",
       "      <td>0</td>\n",
       "      <td>0</td>\n",
       "      <td>0</td>\n",
       "      <td>0</td>\n",
       "      <td>0</td>\n",
       "      <td>0</td>\n",
       "      <td>0</td>\n",
       "      <td>1</td>\n",
       "      <td>0</td>\n",
       "      <td>0</td>\n",
       "    </tr>\n",
       "    <tr>\n",
       "      <th>1</th>\n",
       "      <td>apartment</td>\n",
       "      <td>Abasto</td>\n",
       "      <td>168000.0</td>\n",
       "      <td>87.0</td>\n",
       "      <td>87.0</td>\n",
       "      <td>4.0</td>\n",
       "      <td>1</td>\n",
       "      <td>0</td>\n",
       "      <td>0</td>\n",
       "      <td>0</td>\n",
       "      <td>...</td>\n",
       "      <td>0</td>\n",
       "      <td>0</td>\n",
       "      <td>0</td>\n",
       "      <td>0</td>\n",
       "      <td>0</td>\n",
       "      <td>0</td>\n",
       "      <td>0</td>\n",
       "      <td>1</td>\n",
       "      <td>0</td>\n",
       "      <td>0</td>\n",
       "    </tr>\n",
       "  </tbody>\n",
       "</table>\n",
       "<p>2 rows × 214 columns</p>\n",
       "</div>"
      ],
      "text/plain": [
       "  property_type place_name     price  surface_total_in_m2  \\\n",
       "0     apartment     Abasto   84000.0                 43.0   \n",
       "1     apartment     Abasto  168000.0                 87.0   \n",
       "\n",
       "   surface_covered_in_m2  rooms  place_name_Abasto  \\\n",
       "0                   40.0    1.0                  1   \n",
       "1                   87.0    4.0                  1   \n",
       "\n",
       "   place_name_Acacias Blancas  place_name_Acassuso  place_name_Adrogué  ...  \\\n",
       "0                           0                    0                   0  ...   \n",
       "1                           0                    0                   0  ...   \n",
       "\n",
       "   place_name_Villa Santa Rita  place_name_Villa Sarmiento  \\\n",
       "0                            0                           0   \n",
       "1                            0                           0   \n",
       "\n",
       "   place_name_Villa Urquiza  place_name_Villa del Parque  \\\n",
       "0                         0                            0   \n",
       "1                         0                            0   \n",
       "\n",
       "   place_name_Villanueva  place_name_otro  property_type_PH  \\\n",
       "0                      0                0                 0   \n",
       "1                      0                0                 0   \n",
       "\n",
       "   property_type_apartment  property_type_house  property_type_store  \n",
       "0                        1                    0                    0  \n",
       "1                        1                    0                    0  \n",
       "\n",
       "[2 rows x 214 columns]"
      ]
     },
     "execution_count": 49,
     "metadata": {},
     "output_type": "execute_result"
    }
   ],
   "source": [
    "#Juntamos nuestro df con las dummies\n",
    "df = pd.concat([df, dummies], axis=\"columns\")\n",
    "df.head(2)"
   ]
  },
  {
   "cell_type": "code",
   "execution_count": 50,
   "metadata": {},
   "outputs": [
    {
     "data": {
      "text/html": [
       "<div>\n",
       "<style scoped>\n",
       "    .dataframe tbody tr th:only-of-type {\n",
       "        vertical-align: middle;\n",
       "    }\n",
       "\n",
       "    .dataframe tbody tr th {\n",
       "        vertical-align: top;\n",
       "    }\n",
       "\n",
       "    .dataframe thead th {\n",
       "        text-align: right;\n",
       "    }\n",
       "</style>\n",
       "<table border=\"1\" class=\"dataframe\">\n",
       "  <thead>\n",
       "    <tr style=\"text-align: right;\">\n",
       "      <th></th>\n",
       "      <th>price</th>\n",
       "      <th>surface_total_in_m2</th>\n",
       "      <th>surface_covered_in_m2</th>\n",
       "      <th>rooms</th>\n",
       "      <th>place_name_Abasto</th>\n",
       "      <th>place_name_Acacias Blancas</th>\n",
       "      <th>place_name_Acassuso</th>\n",
       "      <th>place_name_Adrogué</th>\n",
       "      <th>place_name_Agronomía</th>\n",
       "      <th>place_name_Almagro</th>\n",
       "      <th>...</th>\n",
       "      <th>place_name_Villa Santa Rita</th>\n",
       "      <th>place_name_Villa Sarmiento</th>\n",
       "      <th>place_name_Villa Urquiza</th>\n",
       "      <th>place_name_Villa del Parque</th>\n",
       "      <th>place_name_Villanueva</th>\n",
       "      <th>place_name_otro</th>\n",
       "      <th>property_type_PH</th>\n",
       "      <th>property_type_apartment</th>\n",
       "      <th>property_type_house</th>\n",
       "      <th>property_type_store</th>\n",
       "    </tr>\n",
       "  </thead>\n",
       "  <tbody>\n",
       "    <tr>\n",
       "      <th>0</th>\n",
       "      <td>84000.0</td>\n",
       "      <td>43.0</td>\n",
       "      <td>40.0</td>\n",
       "      <td>1.0</td>\n",
       "      <td>1</td>\n",
       "      <td>0</td>\n",
       "      <td>0</td>\n",
       "      <td>0</td>\n",
       "      <td>0</td>\n",
       "      <td>0</td>\n",
       "      <td>...</td>\n",
       "      <td>0</td>\n",
       "      <td>0</td>\n",
       "      <td>0</td>\n",
       "      <td>0</td>\n",
       "      <td>0</td>\n",
       "      <td>0</td>\n",
       "      <td>0</td>\n",
       "      <td>1</td>\n",
       "      <td>0</td>\n",
       "      <td>0</td>\n",
       "    </tr>\n",
       "    <tr>\n",
       "      <th>1</th>\n",
       "      <td>168000.0</td>\n",
       "      <td>87.0</td>\n",
       "      <td>87.0</td>\n",
       "      <td>4.0</td>\n",
       "      <td>1</td>\n",
       "      <td>0</td>\n",
       "      <td>0</td>\n",
       "      <td>0</td>\n",
       "      <td>0</td>\n",
       "      <td>0</td>\n",
       "      <td>...</td>\n",
       "      <td>0</td>\n",
       "      <td>0</td>\n",
       "      <td>0</td>\n",
       "      <td>0</td>\n",
       "      <td>0</td>\n",
       "      <td>0</td>\n",
       "      <td>0</td>\n",
       "      <td>1</td>\n",
       "      <td>0</td>\n",
       "      <td>0</td>\n",
       "    </tr>\n",
       "  </tbody>\n",
       "</table>\n",
       "<p>2 rows × 212 columns</p>\n",
       "</div>"
      ],
      "text/plain": [
       "      price  surface_total_in_m2  surface_covered_in_m2  rooms  \\\n",
       "0   84000.0                 43.0                   40.0    1.0   \n",
       "1  168000.0                 87.0                   87.0    4.0   \n",
       "\n",
       "   place_name_Abasto  place_name_Acacias Blancas  place_name_Acassuso  \\\n",
       "0                  1                           0                    0   \n",
       "1                  1                           0                    0   \n",
       "\n",
       "   place_name_Adrogué  place_name_Agronomía  place_name_Almagro  ...  \\\n",
       "0                   0                     0                   0  ...   \n",
       "1                   0                     0                   0  ...   \n",
       "\n",
       "   place_name_Villa Santa Rita  place_name_Villa Sarmiento  \\\n",
       "0                            0                           0   \n",
       "1                            0                           0   \n",
       "\n",
       "   place_name_Villa Urquiza  place_name_Villa del Parque  \\\n",
       "0                         0                            0   \n",
       "1                         0                            0   \n",
       "\n",
       "   place_name_Villanueva  place_name_otro  property_type_PH  \\\n",
       "0                      0                0                 0   \n",
       "1                      0                0                 0   \n",
       "\n",
       "   property_type_apartment  property_type_house  property_type_store  \n",
       "0                        1                    0                    0  \n",
       "1                        1                    0                    0  \n",
       "\n",
       "[2 rows x 212 columns]"
      ]
     },
     "execution_count": 50,
     "metadata": {},
     "output_type": "execute_result"
    }
   ],
   "source": [
    "#Ahora podemos borrar la columna place_name\n",
    "df = df.drop([\"place_name\", \"property_type\"], axis=\"columns\")\n",
    "df.head(2)"
   ]
  },
  {
   "cell_type": "markdown",
   "metadata": {},
   "source": [
    "## Armamos nuestro modelo"
   ]
  },
  {
   "cell_type": "code",
   "execution_count": 51,
   "metadata": {},
   "outputs": [
    {
     "data": {
      "text/plain": [
       "(14229, 212)"
      ]
     },
     "execution_count": 51,
     "metadata": {},
     "output_type": "execute_result"
    }
   ],
   "source": [
    "df.shape"
   ]
  },
  {
   "cell_type": "code",
   "execution_count": 52,
   "metadata": {},
   "outputs": [
    {
     "name": "stdout",
     "output_type": "stream",
     "text": [
      "(14229, 211)\n"
     ]
    },
    {
     "data": {
      "text/html": [
       "<div>\n",
       "<style scoped>\n",
       "    .dataframe tbody tr th:only-of-type {\n",
       "        vertical-align: middle;\n",
       "    }\n",
       "\n",
       "    .dataframe tbody tr th {\n",
       "        vertical-align: top;\n",
       "    }\n",
       "\n",
       "    .dataframe thead th {\n",
       "        text-align: right;\n",
       "    }\n",
       "</style>\n",
       "<table border=\"1\" class=\"dataframe\">\n",
       "  <thead>\n",
       "    <tr style=\"text-align: right;\">\n",
       "      <th></th>\n",
       "      <th>surface_total_in_m2</th>\n",
       "      <th>surface_covered_in_m2</th>\n",
       "      <th>rooms</th>\n",
       "      <th>place_name_Abasto</th>\n",
       "      <th>place_name_Acacias Blancas</th>\n",
       "      <th>place_name_Acassuso</th>\n",
       "      <th>place_name_Adrogué</th>\n",
       "      <th>place_name_Agronomía</th>\n",
       "      <th>place_name_Almagro</th>\n",
       "      <th>place_name_Altamira</th>\n",
       "      <th>...</th>\n",
       "      <th>place_name_Villa Santa Rita</th>\n",
       "      <th>place_name_Villa Sarmiento</th>\n",
       "      <th>place_name_Villa Urquiza</th>\n",
       "      <th>place_name_Villa del Parque</th>\n",
       "      <th>place_name_Villanueva</th>\n",
       "      <th>place_name_otro</th>\n",
       "      <th>property_type_PH</th>\n",
       "      <th>property_type_apartment</th>\n",
       "      <th>property_type_house</th>\n",
       "      <th>property_type_store</th>\n",
       "    </tr>\n",
       "  </thead>\n",
       "  <tbody>\n",
       "    <tr>\n",
       "      <th>0</th>\n",
       "      <td>43.0</td>\n",
       "      <td>40.0</td>\n",
       "      <td>1.0</td>\n",
       "      <td>1</td>\n",
       "      <td>0</td>\n",
       "      <td>0</td>\n",
       "      <td>0</td>\n",
       "      <td>0</td>\n",
       "      <td>0</td>\n",
       "      <td>0</td>\n",
       "      <td>...</td>\n",
       "      <td>0</td>\n",
       "      <td>0</td>\n",
       "      <td>0</td>\n",
       "      <td>0</td>\n",
       "      <td>0</td>\n",
       "      <td>0</td>\n",
       "      <td>0</td>\n",
       "      <td>1</td>\n",
       "      <td>0</td>\n",
       "      <td>0</td>\n",
       "    </tr>\n",
       "  </tbody>\n",
       "</table>\n",
       "<p>1 rows × 211 columns</p>\n",
       "</div>"
      ],
      "text/plain": [
       "   surface_total_in_m2  surface_covered_in_m2  rooms  place_name_Abasto  \\\n",
       "0                 43.0                   40.0    1.0                  1   \n",
       "\n",
       "   place_name_Acacias Blancas  place_name_Acassuso  place_name_Adrogué  \\\n",
       "0                           0                    0                   0   \n",
       "\n",
       "   place_name_Agronomía  place_name_Almagro  place_name_Altamira  ...  \\\n",
       "0                     0                   0                    0  ...   \n",
       "\n",
       "   place_name_Villa Santa Rita  place_name_Villa Sarmiento  \\\n",
       "0                            0                           0   \n",
       "\n",
       "   place_name_Villa Urquiza  place_name_Villa del Parque  \\\n",
       "0                         0                            0   \n",
       "\n",
       "   place_name_Villanueva  place_name_otro  property_type_PH  \\\n",
       "0                      0                0                 0   \n",
       "\n",
       "   property_type_apartment  property_type_house  property_type_store  \n",
       "0                        1                    0                    0  \n",
       "\n",
       "[1 rows x 211 columns]"
      ]
     },
     "execution_count": 52,
     "metadata": {},
     "output_type": "execute_result"
    }
   ],
   "source": [
    "#Creamos X, la variable predictora\n",
    "X = df.drop(\"price\", axis=\"columns\")\n",
    "print (X.shape)\n",
    "X.head(1)"
   ]
  },
  {
   "cell_type": "code",
   "execution_count": 53,
   "metadata": {},
   "outputs": [
    {
     "name": "stdout",
     "output_type": "stream",
     "text": [
      "(14229,)\n"
     ]
    },
    {
     "data": {
      "text/plain": [
       "0     84000.0\n",
       "1    168000.0\n",
       "2     85000.0\n",
       "3     75000.0\n",
       "4     86600.0\n",
       "Name: price, dtype: float64"
      ]
     },
     "execution_count": 53,
     "metadata": {},
     "output_type": "execute_result"
    }
   ],
   "source": [
    "#Cremos y, la variable a predecir\n",
    "y = df[\"price\"]\n",
    "print(y.shape)\n",
    "y.head()"
   ]
  },
  {
   "cell_type": "code",
   "execution_count": 54,
   "metadata": {},
   "outputs": [],
   "source": [
    "#Separamos train de test\n",
    "from sklearn.model_selection import train_test_split\n",
    "X_train, X_test, y_train, y_test = train_test_split(X, y, test_size=0.2, random_state=10)"
   ]
  },
  {
   "cell_type": "code",
   "execution_count": 56,
   "metadata": {},
   "outputs": [
    {
     "data": {
      "text/plain": [
       "0.87"
      ]
     },
     "execution_count": 56,
     "metadata": {},
     "output_type": "execute_result"
    }
   ],
   "source": [
    "#Linear Regression\n",
    "from sklearn.linear_model import LinearRegression\n",
    "lr_clf = LinearRegression()\n",
    "lr_clf.fit(X_train, y_train)\n",
    "round(lr_clf.score(X_test, y_test), 3)"
   ]
  },
  {
   "cell_type": "code",
   "execution_count": null,
   "metadata": {},
   "outputs": [],
   "source": []
  }
 ],
 "metadata": {
  "kernelspec": {
   "display_name": "Python 3",
   "language": "python",
   "name": "python3"
  },
  "language_info": {
   "codemirror_mode": {
    "name": "ipython",
    "version": 3
   },
   "file_extension": ".py",
   "mimetype": "text/x-python",
   "name": "python",
   "nbconvert_exporter": "python",
   "pygments_lexer": "ipython3",
   "version": "3.8.5"
  }
 },
 "nbformat": 4,
 "nbformat_minor": 4
}
